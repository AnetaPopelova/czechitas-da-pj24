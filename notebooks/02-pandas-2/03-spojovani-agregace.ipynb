{
 "cells": [
  {
   "cell_type": "markdown",
   "metadata": {},
   "source": [
    "# Spojování, agregace a řazení"
   ]
  },
  {
   "cell_type": "markdown",
   "metadata": {},
   "source": [
    "## Pokročilé úpravy\n",
    "\n"
   ]
  },
  {
   "cell_type": "code",
   "execution_count": 1,
   "metadata": {},
   "outputs": [
    {
     "data": {
      "text/html": [
       "<div>\n",
       "<style scoped>\n",
       "    .dataframe tbody tr th:only-of-type {\n",
       "        vertical-align: middle;\n",
       "    }\n",
       "\n",
       "    .dataframe tbody tr th {\n",
       "        vertical-align: top;\n",
       "    }\n",
       "\n",
       "    .dataframe thead th {\n",
       "        text-align: right;\n",
       "    }\n",
       "</style>\n",
       "<table border=\"1\" class=\"dataframe\">\n",
       "  <thead>\n",
       "    <tr style=\"text-align: right;\">\n",
       "      <th></th>\n",
       "      <th>fdc_id</th>\n",
       "      <th>nutrient_id</th>\n",
       "      <th>amount</th>\n",
       "      <th>data_points</th>\n",
       "      <th>derivation_id</th>\n",
       "      <th>min</th>\n",
       "      <th>max</th>\n",
       "      <th>median</th>\n",
       "      <th>loq</th>\n",
       "      <th>footnote</th>\n",
       "      <th>min_year_acquired</th>\n",
       "      <th>name</th>\n",
       "      <th>unit_name</th>\n",
       "    </tr>\n",
       "  </thead>\n",
       "  <tbody>\n",
       "    <tr>\n",
       "      <th>0</th>\n",
       "      <td>1106032</td>\n",
       "      <td>1257</td>\n",
       "      <td>NaN</td>\n",
       "      <td>NaN</td>\n",
       "      <td>71.0</td>\n",
       "      <td>NaN</td>\n",
       "      <td>NaN</td>\n",
       "      <td>NaN</td>\n",
       "      <td>NaN</td>\n",
       "      <td>NaN</td>\n",
       "      <td>NaN</td>\n",
       "      <td>Fatty acids, total trans</td>\n",
       "      <td>G</td>\n",
       "    </tr>\n",
       "    <tr>\n",
       "      <th>1</th>\n",
       "      <td>1107191</td>\n",
       "      <td>1257</td>\n",
       "      <td>NaN</td>\n",
       "      <td>NaN</td>\n",
       "      <td>70.0</td>\n",
       "      <td>NaN</td>\n",
       "      <td>NaN</td>\n",
       "      <td>NaN</td>\n",
       "      <td>NaN</td>\n",
       "      <td>NaN</td>\n",
       "      <td>NaN</td>\n",
       "      <td>Fatty acids, total trans</td>\n",
       "      <td>G</td>\n",
       "    </tr>\n",
       "    <tr>\n",
       "      <th>2</th>\n",
       "      <td>1107295</td>\n",
       "      <td>1257</td>\n",
       "      <td>NaN</td>\n",
       "      <td>NaN</td>\n",
       "      <td>70.0</td>\n",
       "      <td>NaN</td>\n",
       "      <td>NaN</td>\n",
       "      <td>NaN</td>\n",
       "      <td>NaN</td>\n",
       "      <td>NaN</td>\n",
       "      <td>NaN</td>\n",
       "      <td>Fatty acids, total trans</td>\n",
       "      <td>G</td>\n",
       "    </tr>\n",
       "  </tbody>\n",
       "</table>\n",
       "</div>"
      ],
      "text/plain": [
       "    fdc_id  nutrient_id  amount  data_points  derivation_id  min  max  median  \\\n",
       "0  1106032         1257     NaN          NaN           71.0  NaN  NaN     NaN   \n",
       "1  1107191         1257     NaN          NaN           70.0  NaN  NaN     NaN   \n",
       "2  1107295         1257     NaN          NaN           70.0  NaN  NaN     NaN   \n",
       "\n",
       "   loq  footnote  min_year_acquired                      name unit_name  \n",
       "0  NaN       NaN                NaN  Fatty acids, total trans         G  \n",
       "1  NaN       NaN                NaN  Fatty acids, total trans         G  \n",
       "2  NaN       NaN                NaN  Fatty acids, total trans         G  "
      ]
     },
     "execution_count": 1,
     "metadata": {},
     "output_type": "execute_result"
    }
   ],
   "source": [
    "import pandas as pd\n",
    "\n",
    "url_food_nutrient = \"https://kodim.cz/cms/assets/czechitas/python-data-1/python-pro-data-1/podmineny-vyber/podmineny-vyber/food_nutrient.csv\"\n",
    "\n",
    "food_nutrient = pd.read_csv(url_food_nutrient)\n",
    "food_nutrient.head(3)"
   ]
  },
  {
   "cell_type": "markdown",
   "metadata": {},
   "source": [
    "### Práce s chybějícími hodnotami\n",
    "\n"
   ]
  },
  {
   "cell_type": "markdown",
   "metadata": {},
   "source": [
    "**`isna()`, `notna()`**\n",
    "\n",
    "Obě metody vrací hodnoty `True` nebo `False`"
   ]
  },
  {
   "cell_type": "code",
   "execution_count": 2,
   "metadata": {},
   "outputs": [
    {
     "data": {
      "text/html": [
       "<div>\n",
       "<style scoped>\n",
       "    .dataframe tbody tr th:only-of-type {\n",
       "        vertical-align: middle;\n",
       "    }\n",
       "\n",
       "    .dataframe tbody tr th {\n",
       "        vertical-align: top;\n",
       "    }\n",
       "\n",
       "    .dataframe thead th {\n",
       "        text-align: right;\n",
       "    }\n",
       "</style>\n",
       "<table border=\"1\" class=\"dataframe\">\n",
       "  <thead>\n",
       "    <tr style=\"text-align: right;\">\n",
       "      <th></th>\n",
       "      <th>fdc_id</th>\n",
       "      <th>nutrient_id</th>\n",
       "      <th>amount</th>\n",
       "      <th>data_points</th>\n",
       "      <th>derivation_id</th>\n",
       "      <th>min</th>\n",
       "      <th>max</th>\n",
       "      <th>median</th>\n",
       "      <th>loq</th>\n",
       "      <th>footnote</th>\n",
       "      <th>min_year_acquired</th>\n",
       "      <th>name</th>\n",
       "      <th>unit_name</th>\n",
       "    </tr>\n",
       "  </thead>\n",
       "  <tbody>\n",
       "    <tr>\n",
       "      <th>0</th>\n",
       "      <td>1106032</td>\n",
       "      <td>1257</td>\n",
       "      <td>NaN</td>\n",
       "      <td>NaN</td>\n",
       "      <td>71.0</td>\n",
       "      <td>NaN</td>\n",
       "      <td>NaN</td>\n",
       "      <td>NaN</td>\n",
       "      <td>NaN</td>\n",
       "      <td>NaN</td>\n",
       "      <td>NaN</td>\n",
       "      <td>Fatty acids, total trans</td>\n",
       "      <td>G</td>\n",
       "    </tr>\n",
       "    <tr>\n",
       "      <th>1</th>\n",
       "      <td>1107191</td>\n",
       "      <td>1257</td>\n",
       "      <td>NaN</td>\n",
       "      <td>NaN</td>\n",
       "      <td>70.0</td>\n",
       "      <td>NaN</td>\n",
       "      <td>NaN</td>\n",
       "      <td>NaN</td>\n",
       "      <td>NaN</td>\n",
       "      <td>NaN</td>\n",
       "      <td>NaN</td>\n",
       "      <td>Fatty acids, total trans</td>\n",
       "      <td>G</td>\n",
       "    </tr>\n",
       "    <tr>\n",
       "      <th>2</th>\n",
       "      <td>1107295</td>\n",
       "      <td>1257</td>\n",
       "      <td>NaN</td>\n",
       "      <td>NaN</td>\n",
       "      <td>70.0</td>\n",
       "      <td>NaN</td>\n",
       "      <td>NaN</td>\n",
       "      <td>NaN</td>\n",
       "      <td>NaN</td>\n",
       "      <td>NaN</td>\n",
       "      <td>NaN</td>\n",
       "      <td>Fatty acids, total trans</td>\n",
       "      <td>G</td>\n",
       "    </tr>\n",
       "  </tbody>\n",
       "</table>\n",
       "</div>"
      ],
      "text/plain": [
       "    fdc_id  nutrient_id  amount  data_points  derivation_id  min  max  median  \\\n",
       "0  1106032         1257     NaN          NaN           71.0  NaN  NaN     NaN   \n",
       "1  1107191         1257     NaN          NaN           70.0  NaN  NaN     NaN   \n",
       "2  1107295         1257     NaN          NaN           70.0  NaN  NaN     NaN   \n",
       "\n",
       "   loq  footnote  min_year_acquired                      name unit_name  \n",
       "0  NaN       NaN                NaN  Fatty acids, total trans         G  \n",
       "1  NaN       NaN                NaN  Fatty acids, total trans         G  \n",
       "2  NaN       NaN                NaN  Fatty acids, total trans         G  "
      ]
     },
     "execution_count": 2,
     "metadata": {},
     "output_type": "execute_result"
    }
   ],
   "source": [
    "food_nutrient_incomplete = food_nutrient[food_nutrient[\"amount\"].isna()]\n",
    "food_nutrient_incomplete.head(3)"
   ]
  },
  {
   "cell_type": "code",
   "execution_count": 3,
   "metadata": {},
   "outputs": [
    {
     "data": {
      "text/html": [
       "<div>\n",
       "<style scoped>\n",
       "    .dataframe tbody tr th:only-of-type {\n",
       "        vertical-align: middle;\n",
       "    }\n",
       "\n",
       "    .dataframe tbody tr th {\n",
       "        vertical-align: top;\n",
       "    }\n",
       "\n",
       "    .dataframe thead th {\n",
       "        text-align: right;\n",
       "    }\n",
       "</style>\n",
       "<table border=\"1\" class=\"dataframe\">\n",
       "  <thead>\n",
       "    <tr style=\"text-align: right;\">\n",
       "      <th></th>\n",
       "      <th>fdc_id</th>\n",
       "      <th>nutrient_id</th>\n",
       "      <th>amount</th>\n",
       "      <th>data_points</th>\n",
       "      <th>derivation_id</th>\n",
       "      <th>min</th>\n",
       "      <th>max</th>\n",
       "      <th>median</th>\n",
       "      <th>loq</th>\n",
       "      <th>footnote</th>\n",
       "      <th>min_year_acquired</th>\n",
       "      <th>name</th>\n",
       "      <th>unit_name</th>\n",
       "    </tr>\n",
       "  </thead>\n",
       "  <tbody>\n",
       "    <tr>\n",
       "      <th>4</th>\n",
       "      <td>1107528</td>\n",
       "      <td>1257</td>\n",
       "      <td>0.0</td>\n",
       "      <td>NaN</td>\n",
       "      <td>70.0</td>\n",
       "      <td>NaN</td>\n",
       "      <td>NaN</td>\n",
       "      <td>NaN</td>\n",
       "      <td>NaN</td>\n",
       "      <td>NaN</td>\n",
       "      <td>NaN</td>\n",
       "      <td>Fatty acids, total trans</td>\n",
       "      <td>G</td>\n",
       "    </tr>\n",
       "    <tr>\n",
       "      <th>5</th>\n",
       "      <td>1108007</td>\n",
       "      <td>1257</td>\n",
       "      <td>0.0</td>\n",
       "      <td>NaN</td>\n",
       "      <td>70.0</td>\n",
       "      <td>NaN</td>\n",
       "      <td>NaN</td>\n",
       "      <td>NaN</td>\n",
       "      <td>NaN</td>\n",
       "      <td>NaN</td>\n",
       "      <td>NaN</td>\n",
       "      <td>Fatty acids, total trans</td>\n",
       "      <td>G</td>\n",
       "    </tr>\n",
       "    <tr>\n",
       "      <th>6</th>\n",
       "      <td>1108158</td>\n",
       "      <td>1257</td>\n",
       "      <td>0.0</td>\n",
       "      <td>NaN</td>\n",
       "      <td>70.0</td>\n",
       "      <td>NaN</td>\n",
       "      <td>NaN</td>\n",
       "      <td>NaN</td>\n",
       "      <td>NaN</td>\n",
       "      <td>NaN</td>\n",
       "      <td>NaN</td>\n",
       "      <td>Fatty acids, total trans</td>\n",
       "      <td>G</td>\n",
       "    </tr>\n",
       "  </tbody>\n",
       "</table>\n",
       "</div>"
      ],
      "text/plain": [
       "    fdc_id  nutrient_id  amount  data_points  derivation_id  min  max  median  \\\n",
       "4  1107528         1257     0.0          NaN           70.0  NaN  NaN     NaN   \n",
       "5  1108007         1257     0.0          NaN           70.0  NaN  NaN     NaN   \n",
       "6  1108158         1257     0.0          NaN           70.0  NaN  NaN     NaN   \n",
       "\n",
       "   loq  footnote  min_year_acquired                      name unit_name  \n",
       "4  NaN       NaN                NaN  Fatty acids, total trans         G  \n",
       "5  NaN       NaN                NaN  Fatty acids, total trans         G  \n",
       "6  NaN       NaN                NaN  Fatty acids, total trans         G  "
      ]
     },
     "execution_count": 3,
     "metadata": {},
     "output_type": "execute_result"
    }
   ],
   "source": [
    "food_nutrient_complete = food_nutrient[food_nutrient[\"amount\"].notna()]\n",
    "food_nutrient_complete.head(3)"
   ]
  },
  {
   "cell_type": "markdown",
   "metadata": {},
   "source": [
    "**Jak chybějící hodnoty odstranit**"
   ]
  },
  {
   "cell_type": "code",
   "execution_count": 4,
   "metadata": {},
   "outputs": [
    {
     "data": {
      "text/html": [
       "<div>\n",
       "<style scoped>\n",
       "    .dataframe tbody tr th:only-of-type {\n",
       "        vertical-align: middle;\n",
       "    }\n",
       "\n",
       "    .dataframe tbody tr th {\n",
       "        vertical-align: top;\n",
       "    }\n",
       "\n",
       "    .dataframe thead th {\n",
       "        text-align: right;\n",
       "    }\n",
       "</style>\n",
       "<table border=\"1\" class=\"dataframe\">\n",
       "  <thead>\n",
       "    <tr style=\"text-align: right;\">\n",
       "      <th></th>\n",
       "      <th>fdc_id</th>\n",
       "      <th>nutrient_id</th>\n",
       "      <th>amount</th>\n",
       "      <th>data_points</th>\n",
       "      <th>derivation_id</th>\n",
       "      <th>min</th>\n",
       "      <th>max</th>\n",
       "      <th>median</th>\n",
       "      <th>loq</th>\n",
       "      <th>footnote</th>\n",
       "      <th>min_year_acquired</th>\n",
       "      <th>name</th>\n",
       "      <th>unit_name</th>\n",
       "    </tr>\n",
       "  </thead>\n",
       "  <tbody>\n",
       "    <tr>\n",
       "      <th>4</th>\n",
       "      <td>1107528</td>\n",
       "      <td>1257</td>\n",
       "      <td>0.0</td>\n",
       "      <td>NaN</td>\n",
       "      <td>70.0</td>\n",
       "      <td>NaN</td>\n",
       "      <td>NaN</td>\n",
       "      <td>NaN</td>\n",
       "      <td>NaN</td>\n",
       "      <td>NaN</td>\n",
       "      <td>NaN</td>\n",
       "      <td>Fatty acids, total trans</td>\n",
       "      <td>G</td>\n",
       "    </tr>\n",
       "    <tr>\n",
       "      <th>5</th>\n",
       "      <td>1108007</td>\n",
       "      <td>1257</td>\n",
       "      <td>0.0</td>\n",
       "      <td>NaN</td>\n",
       "      <td>70.0</td>\n",
       "      <td>NaN</td>\n",
       "      <td>NaN</td>\n",
       "      <td>NaN</td>\n",
       "      <td>NaN</td>\n",
       "      <td>NaN</td>\n",
       "      <td>NaN</td>\n",
       "      <td>Fatty acids, total trans</td>\n",
       "      <td>G</td>\n",
       "    </tr>\n",
       "    <tr>\n",
       "      <th>6</th>\n",
       "      <td>1108158</td>\n",
       "      <td>1257</td>\n",
       "      <td>0.0</td>\n",
       "      <td>NaN</td>\n",
       "      <td>70.0</td>\n",
       "      <td>NaN</td>\n",
       "      <td>NaN</td>\n",
       "      <td>NaN</td>\n",
       "      <td>NaN</td>\n",
       "      <td>NaN</td>\n",
       "      <td>NaN</td>\n",
       "      <td>Fatty acids, total trans</td>\n",
       "      <td>G</td>\n",
       "    </tr>\n",
       "  </tbody>\n",
       "</table>\n",
       "</div>"
      ],
      "text/plain": [
       "    fdc_id  nutrient_id  amount  data_points  derivation_id  min  max  median  \\\n",
       "4  1107528         1257     0.0          NaN           70.0  NaN  NaN     NaN   \n",
       "5  1108007         1257     0.0          NaN           70.0  NaN  NaN     NaN   \n",
       "6  1108158         1257     0.0          NaN           70.0  NaN  NaN     NaN   \n",
       "\n",
       "   loq  footnote  min_year_acquired                      name unit_name  \n",
       "4  NaN       NaN                NaN  Fatty acids, total trans         G  \n",
       "5  NaN       NaN                NaN  Fatty acids, total trans         G  \n",
       "6  NaN       NaN                NaN  Fatty acids, total trans         G  "
      ]
     },
     "execution_count": 4,
     "metadata": {},
     "output_type": "execute_result"
    }
   ],
   "source": [
    "food_nutrient = food_nutrient.dropna(subset=\"amount\")\n",
    "food_nutrient.head(3)"
   ]
  },
  {
   "cell_type": "markdown",
   "metadata": {},
   "source": [
    "### Spojení dat\n",
    "\n",
    "Nyní bychom chtěli všechny tři naše tabulky spojit do jedné. \n",
    "\n",
    "Nejprve si ukážeme, jak spojit tabulky pod sebe.\n",
    "\n",
    "- Počet sloupců je ve výsledné tabulce stejný jako u spojovaných tabulek.\n",
    "- Počet řádků odpovídá součtu řádků spojovaných tabulek.\n",
    "\n",
    "V SQL používáme pro danou operaci klíčové slovo `UNION`, `pandas` používáme funkci `concat()`."
   ]
  },
  {
   "cell_type": "code",
   "execution_count": 5,
   "metadata": {},
   "outputs": [],
   "source": [
    "url_food_sample_100 = \"https://kodim.cz/cms/assets/czechitas/python-data-1/python-pro-data-1/nacteni-dat/nacteni-dat/food_sample_100.csv\"\n",
    "url_food_other = \"https://kodim.cz/cms/assets/czechitas/python-data-1/python-pro-data-1/spojovani/pokrocile-upravy/food_other.csv\"\n",
    "\n",
    "food_sample_100 = pd.read_csv(url_food_sample_100)\n",
    "food_other = pd.read_csv(url_food_other)"
   ]
  },
  {
   "cell_type": "markdown",
   "metadata": {},
   "source": [
    "Pozor na to, že v takto vzniklém DataFrame se nám rozbije index, protože se spojí za sebe indexy jednotlivých tabulek. \n",
    "\n",
    "Pokud chceme, aby pandas při spojování index přepočítal, musíme nastavit hodnotu parametru `ignore_index` na `True`."
   ]
  },
  {
   "cell_type": "code",
   "execution_count": 6,
   "metadata": {},
   "outputs": [
    {
     "data": {
      "text/html": [
       "<div>\n",
       "<style scoped>\n",
       "    .dataframe tbody tr th:only-of-type {\n",
       "        vertical-align: middle;\n",
       "    }\n",
       "\n",
       "    .dataframe tbody tr th {\n",
       "        vertical-align: top;\n",
       "    }\n",
       "\n",
       "    .dataframe thead th {\n",
       "        text-align: right;\n",
       "    }\n",
       "</style>\n",
       "<table border=\"1\" class=\"dataframe\">\n",
       "  <thead>\n",
       "    <tr style=\"text-align: right;\">\n",
       "      <th></th>\n",
       "      <th>fdc_id</th>\n",
       "      <th>data_type</th>\n",
       "      <th>description</th>\n",
       "      <th>food_category_id</th>\n",
       "      <th>publication_date</th>\n",
       "    </tr>\n",
       "  </thead>\n",
       "  <tbody>\n",
       "    <tr>\n",
       "      <th>0</th>\n",
       "      <td>2644829</td>\n",
       "      <td>sub_sample_food</td>\n",
       "      <td>lentils, dry</td>\n",
       "      <td>16.0</td>\n",
       "      <td>2023-10-19</td>\n",
       "    </tr>\n",
       "    <tr>\n",
       "      <th>1</th>\n",
       "      <td>2347263</td>\n",
       "      <td>sub_sample_food</td>\n",
       "      <td>heavy cream</td>\n",
       "      <td>1.0</td>\n",
       "      <td>2022-10-28</td>\n",
       "    </tr>\n",
       "    <tr>\n",
       "      <th>2</th>\n",
       "      <td>2261954</td>\n",
       "      <td>sub_sample_food</td>\n",
       "      <td>Flour, potato</td>\n",
       "      <td>11.0</td>\n",
       "      <td>2022-04-28</td>\n",
       "    </tr>\n",
       "    <tr>\n",
       "      <th>3</th>\n",
       "      <td>321470</td>\n",
       "      <td>sub_sample_food</td>\n",
       "      <td>Salt, Iodized</td>\n",
       "      <td>2.0</td>\n",
       "      <td>2019-04-01</td>\n",
       "    </tr>\n",
       "    <tr>\n",
       "      <th>4</th>\n",
       "      <td>322951</td>\n",
       "      <td>sub_sample_food</td>\n",
       "      <td>Hot dogs beef</td>\n",
       "      <td>7.0</td>\n",
       "      <td>2019-04-01</td>\n",
       "    </tr>\n",
       "    <tr>\n",
       "      <th>...</th>\n",
       "      <td>...</td>\n",
       "      <td>...</td>\n",
       "      <td>...</td>\n",
       "      <td>...</td>\n",
       "      <td>...</td>\n",
       "    </tr>\n",
       "    <tr>\n",
       "      <th>9995</th>\n",
       "      <td>2661515</td>\n",
       "      <td>branded_food</td>\n",
       "      <td>CHAI LATTE SUGAR FREE BLACK TEA CONCENTRATE, C...</td>\n",
       "      <td>NaN</td>\n",
       "      <td>2023-10-26</td>\n",
       "    </tr>\n",
       "    <tr>\n",
       "      <th>9996</th>\n",
       "      <td>2661730</td>\n",
       "      <td>branded_food</td>\n",
       "      <td>APPLE BANANA ORGANIC FRUIT POUCHES, APPLE BANANA</td>\n",
       "      <td>NaN</td>\n",
       "      <td>2023-10-26</td>\n",
       "    </tr>\n",
       "    <tr>\n",
       "      <th>9997</th>\n",
       "      <td>2661782</td>\n",
       "      <td>branded_food</td>\n",
       "      <td>SPINACH ORGANIC PUREE, SPINACH</td>\n",
       "      <td>NaN</td>\n",
       "      <td>2023-10-26</td>\n",
       "    </tr>\n",
       "    <tr>\n",
       "      <th>9998</th>\n",
       "      <td>2662107</td>\n",
       "      <td>branded_food</td>\n",
       "      <td>LIGHT MOZZARELLA LOW-MOISTURE PART-SKIM STRING...</td>\n",
       "      <td>NaN</td>\n",
       "      <td>2023-10-26</td>\n",
       "    </tr>\n",
       "    <tr>\n",
       "      <th>9999</th>\n",
       "      <td>2662182</td>\n",
       "      <td>branded_food</td>\n",
       "      <td>ITALIAN-STYLE DICED TOMATOES WITH BASIL, GARLI...</td>\n",
       "      <td>NaN</td>\n",
       "      <td>2023-10-26</td>\n",
       "    </tr>\n",
       "  </tbody>\n",
       "</table>\n",
       "<p>10000 rows × 5 columns</p>\n",
       "</div>"
      ],
      "text/plain": [
       "       fdc_id        data_type  \\\n",
       "0     2644829  sub_sample_food   \n",
       "1     2347263  sub_sample_food   \n",
       "2     2261954  sub_sample_food   \n",
       "3      321470  sub_sample_food   \n",
       "4      322951  sub_sample_food   \n",
       "...       ...              ...   \n",
       "9995  2661515     branded_food   \n",
       "9996  2661730     branded_food   \n",
       "9997  2661782     branded_food   \n",
       "9998  2662107     branded_food   \n",
       "9999  2662182     branded_food   \n",
       "\n",
       "                                            description  food_category_id  \\\n",
       "0                                          lentils, dry              16.0   \n",
       "1                                           heavy cream               1.0   \n",
       "2                                         Flour, potato              11.0   \n",
       "3                                         Salt, Iodized               2.0   \n",
       "4                                         Hot dogs beef               7.0   \n",
       "...                                                 ...               ...   \n",
       "9995  CHAI LATTE SUGAR FREE BLACK TEA CONCENTRATE, C...               NaN   \n",
       "9996   APPLE BANANA ORGANIC FRUIT POUCHES, APPLE BANANA               NaN   \n",
       "9997                     SPINACH ORGANIC PUREE, SPINACH               NaN   \n",
       "9998  LIGHT MOZZARELLA LOW-MOISTURE PART-SKIM STRING...               NaN   \n",
       "9999  ITALIAN-STYLE DICED TOMATOES WITH BASIL, GARLI...               NaN   \n",
       "\n",
       "     publication_date  \n",
       "0          2023-10-19  \n",
       "1          2022-10-28  \n",
       "2          2022-04-28  \n",
       "3          2019-04-01  \n",
       "4          2019-04-01  \n",
       "...               ...  \n",
       "9995       2023-10-26  \n",
       "9996       2023-10-26  \n",
       "9997       2023-10-26  \n",
       "9998       2023-10-26  \n",
       "9999       2023-10-26  \n",
       "\n",
       "[10000 rows x 5 columns]"
      ]
     },
     "execution_count": 6,
     "metadata": {},
     "output_type": "execute_result"
    }
   ],
   "source": [
    "food = pd.concat([food_sample_100, food_other], ignore_index=True)\n",
    "food"
   ]
  },
  {
   "cell_type": "markdown",
   "metadata": {},
   "source": [
    "# Propojení dat"
   ]
  },
  {
   "cell_type": "markdown",
   "metadata": {},
   "source": [
    "`pandas` umí `DataFrame` také propojit, což odpovídá SQL příkazu `JOIN`. \n",
    "\n",
    "- Tabulky můžeme spojit více způsoby. \n",
    "- Výsledná tabulka bude mít více sloupců.\n",
    "- Počet řádků zavisí na typu propojení.\n"
   ]
  },
  {
   "cell_type": "markdown",
   "metadata": {},
   "source": [
    "![Druhy propojeni](../../img/type_of_join_operations.png)"
   ]
  },
  {
   "cell_type": "markdown",
   "metadata": {},
   "source": [
    "U operace `JOIN` jsou důležité dvě věci:\n",
    "\n",
    "- Podle jakého sloupce (nebo jakých sloupců) dvě různé tabulky propojujeme.\n",
    "- Co udělat v případě, že pro nějaké řádky nemám ve druhé tabulce odpovídající hodnotu."
   ]
  },
  {
   "cell_type": "code",
   "execution_count": 7,
   "metadata": {},
   "outputs": [
    {
     "name": "stdout",
     "output_type": "stream",
     "text": [
      "(10000, 5)\n",
      "(135332, 13)\n"
     ]
    }
   ],
   "source": [
    "print(food.shape)\n",
    "print(food_nutrient.shape)"
   ]
  },
  {
   "cell_type": "code",
   "execution_count": 8,
   "metadata": {},
   "outputs": [
    {
     "data": {
      "text/plain": [
       "(135332, 17)"
      ]
     },
     "execution_count": 8,
     "metadata": {},
     "output_type": "execute_result"
    }
   ],
   "source": [
    "food_merged = pd.merge(food, food_nutrient, on=\"fdc_id\", how=\"inner\")\n",
    "food_merged.shape"
   ]
  },
  {
   "cell_type": "markdown",
   "metadata": {},
   "source": [
    "---\n",
    "# Cvičení\n"
   ]
  },
  {
   "cell_type": "markdown",
   "metadata": {},
   "source": [
    "## Značky a výrobci"
   ]
  },
  {
   "cell_type": "markdown",
   "metadata": {},
   "source": [
    "Stáhni si data z tabulky `branded_food.csv`, která obsahuje data o konkrétních potravinách od výrobců. Tabulku načti do `pandas` tabulky `branded_food`.\n",
    "\n",
    "Pro tabulku `branded_food` splň následující úkoly.\n",
    "\n",
    "_Nápověda: Na body 2 a 3 využij metodu, kterou jsme si již ukazovali v předchozí lekci. Její název se skládá ze dvou slov - anglického výrazu pro hodnotu a pro počet._\n"
   ]
  },
  {
   "cell_type": "code",
   "execution_count": 9,
   "metadata": {},
   "outputs": [],
   "source": [
    "url_branded_food = \"https://kodim.cz/cms/assets/czechitas/python-data-1/python-pro-data-1/spojovani/excs/znacky/branded_food.csv\"\n",
    "branded_food = pd.read_csv(url_branded_food)\n"
   ]
  },
  {
   "cell_type": "markdown",
   "metadata": {},
   "source": [
    "\n",
    "1. Zobraz si prvních několik řádků tabulky a podívej se na to, jaké jsou v ní sloupce a jaké jsou v nich hodnoty.\n"
   ]
  },
  {
   "cell_type": "code",
   "execution_count": 10,
   "metadata": {},
   "outputs": [
    {
     "data": {
      "text/html": [
       "<div>\n",
       "<style scoped>\n",
       "    .dataframe tbody tr th:only-of-type {\n",
       "        vertical-align: middle;\n",
       "    }\n",
       "\n",
       "    .dataframe tbody tr th {\n",
       "        vertical-align: top;\n",
       "    }\n",
       "\n",
       "    .dataframe thead th {\n",
       "        text-align: right;\n",
       "    }\n",
       "</style>\n",
       "<table border=\"1\" class=\"dataframe\">\n",
       "  <thead>\n",
       "    <tr style=\"text-align: right;\">\n",
       "      <th></th>\n",
       "      <th>fdc_id</th>\n",
       "      <th>brand_owner</th>\n",
       "      <th>brand_name</th>\n",
       "      <th>subbrand_name</th>\n",
       "      <th>gtin_upc</th>\n",
       "      <th>ingredients</th>\n",
       "      <th>not_a_significant_source_of</th>\n",
       "      <th>serving_size</th>\n",
       "      <th>serving_size_unit</th>\n",
       "      <th>household_serving_fulltext</th>\n",
       "      <th>branded_food_category</th>\n",
       "      <th>data_source</th>\n",
       "      <th>package_weight</th>\n",
       "      <th>modified_date</th>\n",
       "      <th>available_date</th>\n",
       "      <th>market_country</th>\n",
       "      <th>discontinued_date</th>\n",
       "      <th>preparation_state_code</th>\n",
       "      <th>trade_channel</th>\n",
       "      <th>short_description</th>\n",
       "    </tr>\n",
       "  </thead>\n",
       "  <tbody>\n",
       "    <tr>\n",
       "      <th>0</th>\n",
       "      <td>1106032</td>\n",
       "      <td>BRAKEBUSH BROTHERS INC.</td>\n",
       "      <td>NaN</td>\n",
       "      <td>NaN</td>\n",
       "      <td>10038034720202</td>\n",
       "      <td>INGREDIENTS: BONELESS CHICKEN BREAST MEAT WITH...</td>\n",
       "      <td>NaN</td>\n",
       "      <td>85.0</td>\n",
       "      <td>g</td>\n",
       "      <td>NaN</td>\n",
       "      <td>Meat/Poultry/Other Animals  Prepared/Processed</td>\n",
       "      <td>GDSN</td>\n",
       "      <td>NaN</td>\n",
       "      <td>2020-09-03</td>\n",
       "      <td>2020-11-13</td>\n",
       "      <td>United States</td>\n",
       "      <td>NaN</td>\n",
       "      <td>NaN</td>\n",
       "      <td>NaN</td>\n",
       "      <td>NaN</td>\n",
       "    </tr>\n",
       "    <tr>\n",
       "      <th>1</th>\n",
       "      <td>1107191</td>\n",
       "      <td>Mahco Inc</td>\n",
       "      <td>NaN</td>\n",
       "      <td>NaN</td>\n",
       "      <td>877448001674</td>\n",
       "      <td>TOMATO PUREE (TOMATOES), CARROTS, ONIONS, SUN-...</td>\n",
       "      <td>NaN</td>\n",
       "      <td>125.0</td>\n",
       "      <td>g</td>\n",
       "      <td>NaN</td>\n",
       "      <td>Prepared Pasta &amp; Pizza Sauces</td>\n",
       "      <td>LI</td>\n",
       "      <td>NaN</td>\n",
       "      <td>2020-09-22</td>\n",
       "      <td>2020-11-13</td>\n",
       "      <td>United States</td>\n",
       "      <td>NaN</td>\n",
       "      <td>NaN</td>\n",
       "      <td>NaN</td>\n",
       "      <td>NaN</td>\n",
       "    </tr>\n",
       "  </tbody>\n",
       "</table>\n",
       "</div>"
      ],
      "text/plain": [
       "    fdc_id              brand_owner brand_name subbrand_name        gtin_upc  \\\n",
       "0  1106032  BRAKEBUSH BROTHERS INC.        NaN           NaN  10038034720202   \n",
       "1  1107191                Mahco Inc        NaN           NaN    877448001674   \n",
       "\n",
       "                                         ingredients  \\\n",
       "0  INGREDIENTS: BONELESS CHICKEN BREAST MEAT WITH...   \n",
       "1  TOMATO PUREE (TOMATOES), CARROTS, ONIONS, SUN-...   \n",
       "\n",
       "  not_a_significant_source_of  serving_size serving_size_unit  \\\n",
       "0                         NaN          85.0                 g   \n",
       "1                         NaN         125.0                 g   \n",
       "\n",
       "  household_serving_fulltext                           branded_food_category  \\\n",
       "0                        NaN  Meat/Poultry/Other Animals  Prepared/Processed   \n",
       "1                        NaN                   Prepared Pasta & Pizza Sauces   \n",
       "\n",
       "  data_source package_weight modified_date available_date market_country  \\\n",
       "0        GDSN            NaN    2020-09-03     2020-11-13  United States   \n",
       "1          LI            NaN    2020-09-22     2020-11-13  United States   \n",
       "\n",
       "   discontinued_date preparation_state_code trade_channel short_description  \n",
       "0                NaN                    NaN           NaN               NaN  \n",
       "1                NaN                    NaN           NaN               NaN  "
      ]
     },
     "execution_count": 10,
     "metadata": {},
     "output_type": "execute_result"
    }
   ],
   "source": [
    "branded_food.head(2)"
   ]
  },
  {
   "cell_type": "markdown",
   "metadata": {},
   "source": [
    "\n",
    "2. Ve sloupci `brand_owner` jsou názvy výrobců potravin. Zjisti tři výrobce s největším počtem potravin v tabulce.\n"
   ]
  },
  {
   "cell_type": "code",
   "execution_count": 11,
   "metadata": {},
   "outputs": [
    {
     "data": {
      "text/plain": [
       "brand_owner\n",
       "Wal-Mart Stores, Inc.    219\n",
       "Target Stores            199\n",
       "Meijer, Inc.             168\n",
       "Name: count, dtype: int64"
      ]
     },
     "execution_count": 11,
     "metadata": {},
     "output_type": "execute_result"
    }
   ],
   "source": [
    "branded_food['brand_owner'].value_counts().head(3)"
   ]
  },
  {
   "cell_type": "markdown",
   "metadata": {},
   "source": [
    "\n",
    "\n",
    "3. Ve sloupci `branded_food_category` jsou kategorie potravin. Zjisti pět kategorií s největších počtem potravin v tabulce.\n"
   ]
  },
  {
   "cell_type": "code",
   "execution_count": 12,
   "metadata": {},
   "outputs": [
    {
     "data": {
      "text/plain": [
       "branded_food_category\n",
       "Popcorn, Peanuts, Seeds & Related Snacks    504\n",
       "Candy                                       415\n",
       "Cheese                                      405\n",
       "Ice Cream & Frozen Yogurt                   310\n",
       "Cookies & Biscuits                          272\n",
       "Name: count, dtype: int64"
      ]
     },
     "execution_count": 12,
     "metadata": {},
     "output_type": "execute_result"
    }
   ],
   "source": [
    "branded_food['branded_food_category'].value_counts().head(5)"
   ]
  },
  {
   "cell_type": "markdown",
   "metadata": {},
   "source": [
    "V tabulce je sloupec `fdc_id`, pomocí kterého ji můžeš propojit s tabulkou `food_merged`. \n",
    "\n",
    "Protože názvy jsou v obou tabulkách stejné, takže by bylo možné použít parametr `on`. Vyzkoušej si ale místo toho parametry `left_on` a `right_on`, kterým dáš stejnou hodnotu, tj. název sloupce `fdc_id`. \n",
    "\n",
    "Výsledek ulož do tabulky `food_merged_brands`.\n"
   ]
  },
  {
   "cell_type": "code",
   "execution_count": 13,
   "metadata": {},
   "outputs": [],
   "source": [
    "food_merged_brands = pd.merge(food_merged, branded_food, right_on=\"fdc_id\", left_on=\"fdc_id\")"
   ]
  },
  {
   "cell_type": "markdown",
   "metadata": {},
   "source": [
    "\n",
    "Pro tabulku `food_merged_brands` splň následující úkoly.\n",
    "\n",
    "1. U výsledné tabulky `food_merged_brands` zkontroluj počet řádků a srovnej ho s původní tabulkou `food_merged`. Ubyly nějaké řádky? A čím to je?\n"
   ]
  },
  {
   "cell_type": "code",
   "execution_count": 14,
   "metadata": {},
   "outputs": [
    {
     "name": "stdout",
     "output_type": "stream",
     "text": [
      "(129280, 36)\n",
      "(135332, 17)\n"
     ]
    }
   ],
   "source": [
    "print(food_merged_brands.shape)\n",
    "print(food_merged.shape)"
   ]
  },
  {
   "cell_type": "markdown",
   "metadata": {},
   "source": [
    "2. Nyní proveď operaci merge znovu, ale s parametrem `how` nastaveným na hodnotu `left`. Zkontroluj počet řádků a porovnej ho s počtem řádků tabulky `food_merged_brands`. Proč se počet liší?"
   ]
  },
  {
   "cell_type": "code",
   "execution_count": 15,
   "metadata": {},
   "outputs": [
    {
     "name": "stdout",
     "output_type": "stream",
     "text": [
      "(135332, 36)\n",
      "(135332, 17)\n"
     ]
    }
   ],
   "source": [
    "food_merged_brands = pd.merge(food_merged, branded_food, right_on=\"fdc_id\", left_on=\"fdc_id\", how=\"left\")\n",
    "print(food_merged_brands.shape)\n",
    "print(food_merged.shape)"
   ]
  },
  {
   "cell_type": "markdown",
   "metadata": {},
   "source": [
    "## Přejmenování sloupce\n",
    "\n",
    "Čím více tabulky propojujeme, tím více sloupců v nich máme. To může být časem až matoucí. \n",
    "\n",
    "Například máme v tabulce sloupec name, který označuje název výživné látky. \n",
    "\n",
    "Pro větší přehlednost ho přejmenujme na `nutrient_name`. K tomu slouží metoda `rename`. \n",
    "\n",
    "Níže je příklad toho, jak lze metodu použít. Pozorně si ho prohlédni. \n",
    "\n",
    "Metodu voláme pomocí tečkové notace, kterou už jsme využívali. \n",
    "\n",
    "```food_merged_brands = food_merged_brands.rename(columns={\"stary_nazev\": \"novy_nazev\"})```\n",
    "\n",
    "\n",
    "Dále je potřeba zapsat název parametru (`columns`, protože chceme přejmenovat sloupce). Jako hodnotu vkládáme strukturu, která je označováno jako slovník. Jedná se o dvojici hodnot ve složených závorkách, která je oddělená dvojtečkou. Před dvojtečkou je starý název sloupce (v našem případě to bude name) a za dvojtečkou nový název sloupce (v našem případě to bude `nutrition_name`). Uprav tedy použití metody a spusť ho. Následně zkontroluj výsledek pomocí `.columns`.\n",
    "\n"
   ]
  },
  {
   "cell_type": "code",
   "execution_count": 16,
   "metadata": {},
   "outputs": [],
   "source": [
    "food_merged_brands = food_merged_brands.rename(columns={\"name\": \"nutrient_name\"})"
   ]
  },
  {
   "cell_type": "markdown",
   "metadata": {},
   "source": [
    "Jako bonus se zamysli nad tím, co by se mohlo stát, pokud na místo starého názvu zadáš sloupec, který v tabulce není (např. test). \n",
    "\n",
    "Jaké chování bys od metody očekával(a)? Jakmile to budeš mít rozmyšlené, použij metodu s neexistujícím názvem sloupce a zkontroluj, co se stalo."
   ]
  },
  {
   "cell_type": "markdown",
   "metadata": {},
   "source": [
    "# Odstranění sloupců"
   ]
  },
  {
   "cell_type": "markdown",
   "metadata": {},
   "source": [
    "Pokud máme v tabulce zbytečné sloupce, můžeme je odstranit. \n",
    "\n",
    "Zbytečných sloupců se můžeme zbavit dvě způsoby:\n",
    "\n",
    "1. Výběrem sloupců, které v tabulce chceme. To už jsme si ukazovali v předchozí lekci v části \"Výběr sloupců\".\n",
    "2. Odebráním sloupců, které v tabulce nechceme. K tomu slouží metoda `\n",
    "\n",
    "\n",
    "Níže je příklad použití metody `drop()`. Použijeme parametr `columns`, kterému zadáme seznam sloupců k odstranění.\n",
    "\n",
    "\n",
    "```\n",
    "food_merged_brands = food_merged_brands.drop(columns=[\"sloupec_1\", \"sloupec_2\"])\n",
    "```\n",
    "\n",
    "\n",
    "Využij metodu k odstranění sloupců `footnote` a `min_year_acquired`. \n"
   ]
  },
  {
   "cell_type": "code",
   "execution_count": 17,
   "metadata": {},
   "outputs": [],
   "source": [
    "food_merged_brands = food_merged_brands.drop(columns=[\"footnote\", \"min_year_acquired\"])\n"
   ]
  },
  {
   "cell_type": "markdown",
   "metadata": {},
   "source": [
    "\n",
    "Pomocí vlastnosti `.columns` zkontroluj výsledek. \n",
    "\n"
   ]
  },
  {
   "cell_type": "code",
   "execution_count": 18,
   "metadata": {},
   "outputs": [
    {
     "data": {
      "text/plain": [
       "Index(['fdc_id', 'data_type', 'description', 'food_category_id',\n",
       "       'publication_date', 'nutrient_id', 'amount', 'data_points',\n",
       "       'derivation_id', 'min', 'max', 'median', 'loq', 'nutrient_name',\n",
       "       'unit_name', 'brand_owner', 'brand_name', 'subbrand_name', 'gtin_upc',\n",
       "       'ingredients', 'not_a_significant_source_of', 'serving_size',\n",
       "       'serving_size_unit', 'household_serving_fulltext',\n",
       "       'branded_food_category', 'data_source', 'package_weight',\n",
       "       'modified_date', 'available_date', 'market_country',\n",
       "       'discontinued_date', 'preparation_state_code', 'trade_channel',\n",
       "       'short_description'],\n",
       "      dtype='object')"
      ]
     },
     "execution_count": 18,
     "metadata": {},
     "output_type": "execute_result"
    }
   ],
   "source": [
    "food_merged_brands.columns"
   ]
  },
  {
   "cell_type": "markdown",
   "metadata": {},
   "source": [
    "Nakonec se podobně jako v předchozím cvičení zamysli nad tím, co by se mohlo stát, kdybys do seznamu vložila neexistující název sloupce, například test. \n",
    "\n",
    "Poté metodu `drop()` s neexistujícím názvem sloupce vyzkoušej. Překvapil tě výsledek?"
   ]
  },
  {
   "cell_type": "markdown",
   "metadata": {},
   "source": [
    "## Agregace a řazení\n"
   ]
  },
  {
   "cell_type": "markdown",
   "metadata": {},
   "source": [
    "\n",
    "### Agregace\n",
    "Agregace je operace, která \"sloučí\" více řádků tabulky do jednoho. \n",
    "\n",
    "U agregace většinou slučujeme řádky podle nějakého konkrétního sloupce. "
   ]
  },
  {
   "cell_type": "code",
   "execution_count": 19,
   "metadata": {},
   "outputs": [
    {
     "data": {
      "text/html": [
       "<div>\n",
       "<style scoped>\n",
       "    .dataframe tbody tr th:only-of-type {\n",
       "        vertical-align: middle;\n",
       "    }\n",
       "\n",
       "    .dataframe tbody tr th {\n",
       "        vertical-align: top;\n",
       "    }\n",
       "\n",
       "    .dataframe thead th {\n",
       "        text-align: right;\n",
       "    }\n",
       "</style>\n",
       "<table border=\"1\" class=\"dataframe\">\n",
       "  <thead>\n",
       "    <tr style=\"text-align: right;\">\n",
       "      <th></th>\n",
       "      <th>fdc_id</th>\n",
       "      <th>data_type</th>\n",
       "      <th>description</th>\n",
       "      <th>food_category_id</th>\n",
       "      <th>publication_date</th>\n",
       "      <th>nutrient_id</th>\n",
       "      <th>amount</th>\n",
       "      <th>data_points</th>\n",
       "      <th>derivation_id</th>\n",
       "      <th>min</th>\n",
       "      <th>...</th>\n",
       "      <th>branded_food_category</th>\n",
       "      <th>data_source</th>\n",
       "      <th>package_weight</th>\n",
       "      <th>modified_date</th>\n",
       "      <th>available_date</th>\n",
       "      <th>market_country</th>\n",
       "      <th>discontinued_date</th>\n",
       "      <th>preparation_state_code</th>\n",
       "      <th>trade_channel</th>\n",
       "      <th>short_description</th>\n",
       "    </tr>\n",
       "  </thead>\n",
       "  <tbody>\n",
       "    <tr>\n",
       "      <th>15</th>\n",
       "      <td>335770</td>\n",
       "      <td>agricultural_acquisition</td>\n",
       "      <td>Beans, Dry, Small Red, 471 (0% moisture)</td>\n",
       "      <td>16.0</td>\n",
       "      <td>2019-04-01</td>\n",
       "      <td>1003</td>\n",
       "      <td>20.8</td>\n",
       "      <td>1.0</td>\n",
       "      <td>1.0</td>\n",
       "      <td>NaN</td>\n",
       "      <td>...</td>\n",
       "      <td>NaN</td>\n",
       "      <td>NaN</td>\n",
       "      <td>NaN</td>\n",
       "      <td>NaN</td>\n",
       "      <td>NaN</td>\n",
       "      <td>NaN</td>\n",
       "      <td>NaN</td>\n",
       "      <td>NaN</td>\n",
       "      <td>NaN</td>\n",
       "      <td>NaN</td>\n",
       "    </tr>\n",
       "    <tr>\n",
       "      <th>57</th>\n",
       "      <td>335751</td>\n",
       "      <td>agricultural_acquisition</td>\n",
       "      <td>Beans, Dry, Small Red, 646 (0% moisture)</td>\n",
       "      <td>16.0</td>\n",
       "      <td>2019-04-01</td>\n",
       "      <td>1003</td>\n",
       "      <td>22.0</td>\n",
       "      <td>1.0</td>\n",
       "      <td>1.0</td>\n",
       "      <td>NaN</td>\n",
       "      <td>...</td>\n",
       "      <td>NaN</td>\n",
       "      <td>NaN</td>\n",
       "      <td>NaN</td>\n",
       "      <td>NaN</td>\n",
       "      <td>NaN</td>\n",
       "      <td>NaN</td>\n",
       "      <td>NaN</td>\n",
       "      <td>NaN</td>\n",
       "      <td>NaN</td>\n",
       "      <td>NaN</td>\n",
       "    </tr>\n",
       "    <tr>\n",
       "      <th>198</th>\n",
       "      <td>335616</td>\n",
       "      <td>agricultural_acquisition</td>\n",
       "      <td>Beans, Dry, Pinto, 678 (0% moisture)</td>\n",
       "      <td>16.0</td>\n",
       "      <td>2019-04-01</td>\n",
       "      <td>1003</td>\n",
       "      <td>22.0</td>\n",
       "      <td>1.0</td>\n",
       "      <td>1.0</td>\n",
       "      <td>NaN</td>\n",
       "      <td>...</td>\n",
       "      <td>NaN</td>\n",
       "      <td>NaN</td>\n",
       "      <td>NaN</td>\n",
       "      <td>NaN</td>\n",
       "      <td>NaN</td>\n",
       "      <td>NaN</td>\n",
       "      <td>NaN</td>\n",
       "      <td>NaN</td>\n",
       "      <td>NaN</td>\n",
       "      <td>NaN</td>\n",
       "    </tr>\n",
       "  </tbody>\n",
       "</table>\n",
       "<p>3 rows × 34 columns</p>\n",
       "</div>"
      ],
      "text/plain": [
       "     fdc_id                 data_type  \\\n",
       "15   335770  agricultural_acquisition   \n",
       "57   335751  agricultural_acquisition   \n",
       "198  335616  agricultural_acquisition   \n",
       "\n",
       "                                  description  food_category_id  \\\n",
       "15   Beans, Dry, Small Red, 471 (0% moisture)              16.0   \n",
       "57   Beans, Dry, Small Red, 646 (0% moisture)              16.0   \n",
       "198      Beans, Dry, Pinto, 678 (0% moisture)              16.0   \n",
       "\n",
       "    publication_date  nutrient_id  amount  data_points  derivation_id  min  \\\n",
       "15        2019-04-01         1003    20.8          1.0            1.0  NaN   \n",
       "57        2019-04-01         1003    22.0          1.0            1.0  NaN   \n",
       "198       2019-04-01         1003    22.0          1.0            1.0  NaN   \n",
       "\n",
       "     ...  branded_food_category  data_source  package_weight modified_date  \\\n",
       "15   ...                    NaN          NaN             NaN           NaN   \n",
       "57   ...                    NaN          NaN             NaN           NaN   \n",
       "198  ...                    NaN          NaN             NaN           NaN   \n",
       "\n",
       "    available_date market_country discontinued_date preparation_state_code  \\\n",
       "15             NaN            NaN               NaN                    NaN   \n",
       "57             NaN            NaN               NaN                    NaN   \n",
       "198            NaN            NaN               NaN                    NaN   \n",
       "\n",
       "     trade_channel short_description  \n",
       "15             NaN               NaN  \n",
       "57             NaN               NaN  \n",
       "198            NaN               NaN  \n",
       "\n",
       "[3 rows x 34 columns]"
      ]
     },
     "execution_count": 19,
     "metadata": {},
     "output_type": "execute_result"
    }
   ],
   "source": [
    "food_merged_brands_protein = food_merged_brands[\n",
    "    food_merged_brands[\"nutrient_name\"] == \"Protein\"\n",
    "]\n",
    "food_merged_brands_protein.head(3)"
   ]
  },
  {
   "cell_type": "code",
   "execution_count": 20,
   "metadata": {},
   "outputs": [
    {
     "data": {
      "text/plain": [
       "branded_food_category\n",
       "Alcohol                          0.684000\n",
       "All Noodles                     11.107368\n",
       "Baby/Infant  Foods/Beverages     1.140000\n",
       "Bacon                           45.200000\n",
       "Bacon, Sausages & Ribs          27.239630\n",
       "                                  ...    \n",
       "Weight Control                   3.080000\n",
       "Wholesome Snacks                 1.485645\n",
       "Yogurt                           5.596461\n",
       "Yogurt (Perishable)              4.320000\n",
       "Yogurt/Yogurt Substitutes        5.578333\n",
       "Name: amount, Length: 193, dtype: float64"
      ]
     },
     "execution_count": 20,
     "metadata": {},
     "output_type": "execute_result"
    }
   ],
   "source": [
    "food_merged_brands_protein_agg = food_merged_brands_protein.groupby(\n",
    "    \"branded_food_category\"\n",
    ")[\"amount\"].mean()\n",
    "\n",
    "food_merged_brands_protein_agg"
   ]
  },
  {
   "cell_type": "markdown",
   "metadata": {},
   "source": [
    "### Řazení"
   ]
  },
  {
   "cell_type": "code",
   "execution_count": 21,
   "metadata": {},
   "outputs": [
    {
     "data": {
      "text/plain": [
       "branded_food_category\n",
       "Bacon                                                  45.200000\n",
       "Green Supplements                                      44.590000\n",
       "Drinks Flavoured - Ready to Drink                      32.900000\n",
       "Energy, Protein & Muscle Recovery Drinks               31.831481\n",
       "Bacon, Sausages & Ribs                                 27.239630\n",
       "Canned Tuna                                            21.648889\n",
       "Meat/Poultry/Other Animals  Prepared/Processed         21.522368\n",
       "Nut & Seed Butters                                     20.651270\n",
       "Cheese                                                 19.969457\n",
       "Meat/Poultry/Other Animals – Unprepared/Unprocessed    19.640000\n",
       "Name: amount, dtype: float64"
      ]
     },
     "execution_count": 21,
     "metadata": {},
     "output_type": "execute_result"
    }
   ],
   "source": [
    "food_merged_brands_protein_agg.sort_values(ascending=False).head(10)"
   ]
  },
  {
   "cell_type": "code",
   "execution_count": 22,
   "metadata": {},
   "outputs": [
    {
     "data": {
      "text/html": [
       "<div>\n",
       "<style scoped>\n",
       "    .dataframe tbody tr th:only-of-type {\n",
       "        vertical-align: middle;\n",
       "    }\n",
       "\n",
       "    .dataframe tbody tr th {\n",
       "        vertical-align: top;\n",
       "    }\n",
       "\n",
       "    .dataframe thead th {\n",
       "        text-align: right;\n",
       "    }\n",
       "</style>\n",
       "<table border=\"1\" class=\"dataframe\">\n",
       "  <thead>\n",
       "    <tr style=\"text-align: right;\">\n",
       "      <th></th>\n",
       "      <th>fdc_id</th>\n",
       "      <th>data_type</th>\n",
       "      <th>description</th>\n",
       "      <th>food_category_id</th>\n",
       "      <th>publication_date</th>\n",
       "      <th>nutrient_id</th>\n",
       "      <th>amount</th>\n",
       "      <th>data_points</th>\n",
       "      <th>derivation_id</th>\n",
       "      <th>min</th>\n",
       "      <th>...</th>\n",
       "      <th>branded_food_category</th>\n",
       "      <th>data_source</th>\n",
       "      <th>package_weight</th>\n",
       "      <th>modified_date</th>\n",
       "      <th>available_date</th>\n",
       "      <th>market_country</th>\n",
       "      <th>discontinued_date</th>\n",
       "      <th>preparation_state_code</th>\n",
       "      <th>trade_channel</th>\n",
       "      <th>short_description</th>\n",
       "    </tr>\n",
       "  </thead>\n",
       "  <tbody>\n",
       "    <tr>\n",
       "      <th>65920</th>\n",
       "      <td>1593315</td>\n",
       "      <td>branded_food</td>\n",
       "      <td>CHOCOLATE SHAKE, CHOCOLATE</td>\n",
       "      <td>NaN</td>\n",
       "      <td>2021-03-19</td>\n",
       "      <td>1003</td>\n",
       "      <td>87.50</td>\n",
       "      <td>NaN</td>\n",
       "      <td>70.0</td>\n",
       "      <td>NaN</td>\n",
       "      <td>...</td>\n",
       "      <td>Energy, Protein &amp; Muscle Recovery Drinks</td>\n",
       "      <td>LI</td>\n",
       "      <td>NaN</td>\n",
       "      <td>2018-06-18</td>\n",
       "      <td>2021-03-19</td>\n",
       "      <td>United States</td>\n",
       "      <td>NaN</td>\n",
       "      <td>NaN</td>\n",
       "      <td>NaN</td>\n",
       "      <td>NaN</td>\n",
       "    </tr>\n",
       "    <tr>\n",
       "      <th>83126</th>\n",
       "      <td>1842352</td>\n",
       "      <td>branded_food</td>\n",
       "      <td>PEDIATRIC SHAKE BALANCED NUTRITION, VANILLA</td>\n",
       "      <td>NaN</td>\n",
       "      <td>2021-06-25</td>\n",
       "      <td>1003</td>\n",
       "      <td>87.50</td>\n",
       "      <td>NaN</td>\n",
       "      <td>70.0</td>\n",
       "      <td>NaN</td>\n",
       "      <td>...</td>\n",
       "      <td>Powdered Drinks</td>\n",
       "      <td>LI</td>\n",
       "      <td>237 mL</td>\n",
       "      <td>2021-05-05</td>\n",
       "      <td>2021-06-25</td>\n",
       "      <td>United States</td>\n",
       "      <td>NaN</td>\n",
       "      <td>NaN</td>\n",
       "      <td>NaN</td>\n",
       "      <td>NaN</td>\n",
       "    </tr>\n",
       "    <tr>\n",
       "      <th>116139</th>\n",
       "      <td>2399314</td>\n",
       "      <td>branded_food</td>\n",
       "      <td>ORGANIC LONG GRAIN WHITE RICE</td>\n",
       "      <td>NaN</td>\n",
       "      <td>2022-12-22</td>\n",
       "      <td>1003</td>\n",
       "      <td>86.67</td>\n",
       "      <td>NaN</td>\n",
       "      <td>70.0</td>\n",
       "      <td>NaN</td>\n",
       "      <td>...</td>\n",
       "      <td>Rice</td>\n",
       "      <td>LI</td>\n",
       "      <td>25 lbs/11.34 kg</td>\n",
       "      <td>2020-07-20</td>\n",
       "      <td>2022-12-22</td>\n",
       "      <td>United States</td>\n",
       "      <td>NaN</td>\n",
       "      <td>NaN</td>\n",
       "      <td>NaN</td>\n",
       "      <td>NaN</td>\n",
       "    </tr>\n",
       "    <tr>\n",
       "      <th>109094</th>\n",
       "      <td>2280607</td>\n",
       "      <td>branded_food</td>\n",
       "      <td>BIRTHDAY CAKE FLAVORED GOLD STANDARD 100% ISOL...</td>\n",
       "      <td>NaN</td>\n",
       "      <td>2022-05-23</td>\n",
       "      <td>1003</td>\n",
       "      <td>83.33</td>\n",
       "      <td>NaN</td>\n",
       "      <td>70.0</td>\n",
       "      <td>NaN</td>\n",
       "      <td>...</td>\n",
       "      <td>Energy, Protein &amp; Muscle Recovery Drinks</td>\n",
       "      <td>LI</td>\n",
       "      <td>1.58 LB/720 G</td>\n",
       "      <td>2022-02-03</td>\n",
       "      <td>2022-05-23</td>\n",
       "      <td>United States</td>\n",
       "      <td>NaN</td>\n",
       "      <td>NaN</td>\n",
       "      <td>NaN</td>\n",
       "      <td>NaN</td>\n",
       "    </tr>\n",
       "    <tr>\n",
       "      <th>86095</th>\n",
       "      <td>1918665</td>\n",
       "      <td>branded_food</td>\n",
       "      <td>OMEGA NUTRITION, KEFIR CULTURED MILK STARTER</td>\n",
       "      <td>NaN</td>\n",
       "      <td>2021-07-29</td>\n",
       "      <td>1003</td>\n",
       "      <td>80.00</td>\n",
       "      <td>NaN</td>\n",
       "      <td>73.0</td>\n",
       "      <td>NaN</td>\n",
       "      <td>...</td>\n",
       "      <td>Milk Additives</td>\n",
       "      <td>LI</td>\n",
       "      <td>1.1 oz/30 g</td>\n",
       "      <td>2018-04-27</td>\n",
       "      <td>2021-07-29</td>\n",
       "      <td>United States</td>\n",
       "      <td>NaN</td>\n",
       "      <td>NaN</td>\n",
       "      <td>NaN</td>\n",
       "      <td>NaN</td>\n",
       "    </tr>\n",
       "  </tbody>\n",
       "</table>\n",
       "<p>5 rows × 34 columns</p>\n",
       "</div>"
      ],
      "text/plain": [
       "         fdc_id     data_type  \\\n",
       "65920   1593315  branded_food   \n",
       "83126   1842352  branded_food   \n",
       "116139  2399314  branded_food   \n",
       "109094  2280607  branded_food   \n",
       "86095   1918665  branded_food   \n",
       "\n",
       "                                              description  food_category_id  \\\n",
       "65920                          CHOCOLATE SHAKE, CHOCOLATE               NaN   \n",
       "83126         PEDIATRIC SHAKE BALANCED NUTRITION, VANILLA               NaN   \n",
       "116139                      ORGANIC LONG GRAIN WHITE RICE               NaN   \n",
       "109094  BIRTHDAY CAKE FLAVORED GOLD STANDARD 100% ISOL...               NaN   \n",
       "86095        OMEGA NUTRITION, KEFIR CULTURED MILK STARTER               NaN   \n",
       "\n",
       "       publication_date  nutrient_id  amount  data_points  derivation_id  min  \\\n",
       "65920        2021-03-19         1003   87.50          NaN           70.0  NaN   \n",
       "83126        2021-06-25         1003   87.50          NaN           70.0  NaN   \n",
       "116139       2022-12-22         1003   86.67          NaN           70.0  NaN   \n",
       "109094       2022-05-23         1003   83.33          NaN           70.0  NaN   \n",
       "86095        2021-07-29         1003   80.00          NaN           73.0  NaN   \n",
       "\n",
       "        ...                     branded_food_category  data_source  \\\n",
       "65920   ...  Energy, Protein & Muscle Recovery Drinks           LI   \n",
       "83126   ...                           Powdered Drinks           LI   \n",
       "116139  ...                                      Rice           LI   \n",
       "109094  ...  Energy, Protein & Muscle Recovery Drinks           LI   \n",
       "86095   ...                            Milk Additives           LI   \n",
       "\n",
       "         package_weight modified_date available_date market_country  \\\n",
       "65920               NaN    2018-06-18     2021-03-19  United States   \n",
       "83126            237 mL    2021-05-05     2021-06-25  United States   \n",
       "116139  25 lbs/11.34 kg    2020-07-20     2022-12-22  United States   \n",
       "109094    1.58 LB/720 G    2022-02-03     2022-05-23  United States   \n",
       "86095       1.1 oz/30 g    2018-04-27     2021-07-29  United States   \n",
       "\n",
       "       discontinued_date preparation_state_code  trade_channel  \\\n",
       "65920                NaN                    NaN            NaN   \n",
       "83126                NaN                    NaN            NaN   \n",
       "116139               NaN                    NaN            NaN   \n",
       "109094               NaN                    NaN            NaN   \n",
       "86095                NaN                    NaN            NaN   \n",
       "\n",
       "       short_description  \n",
       "65920                NaN  \n",
       "83126                NaN  \n",
       "116139               NaN  \n",
       "109094               NaN  \n",
       "86095                NaN  \n",
       "\n",
       "[5 rows x 34 columns]"
      ]
     },
     "execution_count": 22,
     "metadata": {},
     "output_type": "execute_result"
    }
   ],
   "source": [
    "food_merged_brands_protein.sort_values(\"amount\", ascending=False).head()"
   ]
  },
  {
   "cell_type": "markdown",
   "metadata": {},
   "source": [
    "---\n",
    "\n",
    "# Cvičení"
   ]
  },
  {
   "cell_type": "markdown",
   "metadata": {},
   "source": [
    "## Lipidy a tuky"
   ]
  },
  {
   "cell_type": "markdown",
   "metadata": {},
   "source": [
    "Podívej se nyní na to, které kategorie potravin obsahují nejvíce lipidů (tuků). "
   ]
  },
  {
   "cell_type": "markdown",
   "metadata": {},
   "source": [
    "Nejprve pomocí dotazu vytvořit novou tabulku `food_merged_brands_lipid`, do které pomocí dotazu vlož pouze řádky, které mají jako název výživné látky hodnotu `Total lipid (fat)`. \n"
   ]
  },
  {
   "cell_type": "code",
   "execution_count": 23,
   "metadata": {},
   "outputs": [
    {
     "data": {
      "text/html": [
       "<div>\n",
       "<style scoped>\n",
       "    .dataframe tbody tr th:only-of-type {\n",
       "        vertical-align: middle;\n",
       "    }\n",
       "\n",
       "    .dataframe tbody tr th {\n",
       "        vertical-align: top;\n",
       "    }\n",
       "\n",
       "    .dataframe thead th {\n",
       "        text-align: right;\n",
       "    }\n",
       "</style>\n",
       "<table border=\"1\" class=\"dataframe\">\n",
       "  <thead>\n",
       "    <tr style=\"text-align: right;\">\n",
       "      <th></th>\n",
       "      <th>fdc_id</th>\n",
       "      <th>data_type</th>\n",
       "      <th>description</th>\n",
       "      <th>food_category_id</th>\n",
       "      <th>publication_date</th>\n",
       "      <th>nutrient_id</th>\n",
       "      <th>amount</th>\n",
       "      <th>data_points</th>\n",
       "      <th>derivation_id</th>\n",
       "      <th>min</th>\n",
       "      <th>...</th>\n",
       "      <th>branded_food_category</th>\n",
       "      <th>data_source</th>\n",
       "      <th>package_weight</th>\n",
       "      <th>modified_date</th>\n",
       "      <th>available_date</th>\n",
       "      <th>market_country</th>\n",
       "      <th>discontinued_date</th>\n",
       "      <th>preparation_state_code</th>\n",
       "      <th>trade_channel</th>\n",
       "      <th>short_description</th>\n",
       "    </tr>\n",
       "  </thead>\n",
       "  <tbody>\n",
       "    <tr>\n",
       "      <th>14</th>\n",
       "      <td>335770</td>\n",
       "      <td>agricultural_acquisition</td>\n",
       "      <td>Beans, Dry, Small Red, 471 (0% moisture)</td>\n",
       "      <td>16.0</td>\n",
       "      <td>2019-04-01</td>\n",
       "      <td>1004</td>\n",
       "      <td>1.26</td>\n",
       "      <td>1.0</td>\n",
       "      <td>1.0</td>\n",
       "      <td>NaN</td>\n",
       "      <td>...</td>\n",
       "      <td>NaN</td>\n",
       "      <td>NaN</td>\n",
       "      <td>NaN</td>\n",
       "      <td>NaN</td>\n",
       "      <td>NaN</td>\n",
       "      <td>NaN</td>\n",
       "      <td>NaN</td>\n",
       "      <td>NaN</td>\n",
       "      <td>NaN</td>\n",
       "      <td>NaN</td>\n",
       "    </tr>\n",
       "    <tr>\n",
       "      <th>44</th>\n",
       "      <td>2004789</td>\n",
       "      <td>sub_sample_food</td>\n",
       "      <td>GRAPE JUICE, PURPLE, FROM CONCENTRATE WITH ADD...</td>\n",
       "      <td>9.0</td>\n",
       "      <td>2021-10-15</td>\n",
       "      <td>1004</td>\n",
       "      <td>0.25</td>\n",
       "      <td>1.0</td>\n",
       "      <td>1.0</td>\n",
       "      <td>NaN</td>\n",
       "      <td>...</td>\n",
       "      <td>NaN</td>\n",
       "      <td>NaN</td>\n",
       "      <td>NaN</td>\n",
       "      <td>NaN</td>\n",
       "      <td>NaN</td>\n",
       "      <td>NaN</td>\n",
       "      <td>NaN</td>\n",
       "      <td>NaN</td>\n",
       "      <td>NaN</td>\n",
       "      <td>NaN</td>\n",
       "    </tr>\n",
       "    <tr>\n",
       "      <th>56</th>\n",
       "      <td>335751</td>\n",
       "      <td>agricultural_acquisition</td>\n",
       "      <td>Beans, Dry, Small Red, 646 (0% moisture)</td>\n",
       "      <td>16.0</td>\n",
       "      <td>2019-04-01</td>\n",
       "      <td>1004</td>\n",
       "      <td>1.27</td>\n",
       "      <td>1.0</td>\n",
       "      <td>1.0</td>\n",
       "      <td>NaN</td>\n",
       "      <td>...</td>\n",
       "      <td>NaN</td>\n",
       "      <td>NaN</td>\n",
       "      <td>NaN</td>\n",
       "      <td>NaN</td>\n",
       "      <td>NaN</td>\n",
       "      <td>NaN</td>\n",
       "      <td>NaN</td>\n",
       "      <td>NaN</td>\n",
       "      <td>NaN</td>\n",
       "      <td>NaN</td>\n",
       "    </tr>\n",
       "  </tbody>\n",
       "</table>\n",
       "<p>3 rows × 34 columns</p>\n",
       "</div>"
      ],
      "text/plain": [
       "     fdc_id                 data_type  \\\n",
       "14   335770  agricultural_acquisition   \n",
       "44  2004789           sub_sample_food   \n",
       "56   335751  agricultural_acquisition   \n",
       "\n",
       "                                          description  food_category_id  \\\n",
       "14           Beans, Dry, Small Red, 471 (0% moisture)              16.0   \n",
       "44  GRAPE JUICE, PURPLE, FROM CONCENTRATE WITH ADD...               9.0   \n",
       "56           Beans, Dry, Small Red, 646 (0% moisture)              16.0   \n",
       "\n",
       "   publication_date  nutrient_id  amount  data_points  derivation_id  min  \\\n",
       "14       2019-04-01         1004    1.26          1.0            1.0  NaN   \n",
       "44       2021-10-15         1004    0.25          1.0            1.0  NaN   \n",
       "56       2019-04-01         1004    1.27          1.0            1.0  NaN   \n",
       "\n",
       "    ...  branded_food_category  data_source  package_weight modified_date  \\\n",
       "14  ...                    NaN          NaN             NaN           NaN   \n",
       "44  ...                    NaN          NaN             NaN           NaN   \n",
       "56  ...                    NaN          NaN             NaN           NaN   \n",
       "\n",
       "   available_date market_country discontinued_date preparation_state_code  \\\n",
       "14            NaN            NaN               NaN                    NaN   \n",
       "44            NaN            NaN               NaN                    NaN   \n",
       "56            NaN            NaN               NaN                    NaN   \n",
       "\n",
       "    trade_channel short_description  \n",
       "14            NaN               NaN  \n",
       "44            NaN               NaN  \n",
       "56            NaN               NaN  \n",
       "\n",
       "[3 rows x 34 columns]"
      ]
     },
     "execution_count": 23,
     "metadata": {},
     "output_type": "execute_result"
    }
   ],
   "source": [
    "food_merged_brands_lipid = food_merged_brands[\n",
    "    food_merged_brands[\"nutrient_name\"] == \"Total lipid (fat)\"\n",
    "]\n",
    "food_merged_brands_lipid.head(3)"
   ]
  },
  {
   "cell_type": "markdown",
   "metadata": {},
   "source": [
    "Poté proveď agregaci podle návu kategorie a seřaď výslednou tabulku tak, aby nahoře byly vidět kategorie s největším počtem tuků. "
   ]
  },
  {
   "cell_type": "code",
   "execution_count": 24,
   "metadata": {},
   "outputs": [
    {
     "data": {
      "text/plain": [
       "branded_food_category\n",
       "Oils Edible                                        93.330000\n",
       "Vegetable & Cooking Oils                           78.012391\n",
       "Butter & Spread                                    66.552667\n",
       "Butter/Butter Substitutes                          63.965000\n",
       "Meat/Poultry/Other Animals – Prepared/Processed    59.520000\n",
       "                                                     ...    \n",
       "Green Supplements                                   0.000000\n",
       "Health Care                                         0.000000\n",
       "Herbs/Spices/Extracts                               0.000000\n",
       "Honey                                               0.000000\n",
       "Plant Based Water                                   0.000000\n",
       "Name: amount, Length: 193, dtype: float64"
      ]
     },
     "execution_count": 24,
     "metadata": {},
     "output_type": "execute_result"
    }
   ],
   "source": [
    "food_merged_brands_lipid_agg = food_merged_brands_lipid.groupby(\n",
    "    \"branded_food_category\"\n",
    ")[\"amount\"].mean()\n",
    "\n",
    "food_merged_brands_lipid_agg.sort_values(ascending=False)"
   ]
  },
  {
   "cell_type": "markdown",
   "metadata": {},
   "source": [
    "Porovnej si výslednou tabulku s tabulkou `food_merged_brands_protein_agg`, kterou jsme vytvořili v rámci lekce. \n",
    "\n",
    "Podívej se, zda se některé kategorie objevují v obou tabulkách."
   ]
  },
  {
   "cell_type": "markdown",
   "metadata": {},
   "source": [
    "## Výrobci a kategorie"
   ]
  },
  {
   "cell_type": "markdown",
   "metadata": {},
   "source": [
    "Nyní uvažuj, že si chceme udělat přehled o tom, jaký výrobce produkuje jaké typy potravin. \n"
   ]
  },
  {
   "cell_type": "markdown",
   "metadata": {},
   "source": [
    "\n",
    "Proveď agregaci tabulky `food_merged_brands` podle dvou sloupců: `brand_owner` a `branded_food_category`. \n",
    "\n",
    "Sloupce musíš metodě `food_merged_brands` zadat jako seznam, tj. musíš použít hranaté závorky. \n",
    "\n"
   ]
  },
  {
   "cell_type": "markdown",
   "metadata": {},
   "source": [
    "\n",
    "Dále vyber sloupec `fdc_id` pro provedení agregace a použij agregaci `nunique()`, který vrátí počet unikátních hodnot. \n",
    "\n",
    "Nakonec použij metodu `sort_values` s tím, že chceš data seřadit sestupně."
   ]
  },
  {
   "cell_type": "code",
   "execution_count": 25,
   "metadata": {},
   "outputs": [
    {
     "data": {
      "text/plain": [
       "brand_owner                branded_food_category               \n",
       "Ferrara Candy Company      Candy                                   40\n",
       "CAMPBELL SOUP COMPANY      Prepared Soups                          29\n",
       "Danone US, LLC             Yogurt                                  24\n",
       "Bimbo Bakeries USA, Inc.   Breads & Buns                           24\n",
       "Wells Enterprises, Inc.    Ice Cream & Frozen Yogurt               24\n",
       "                                                                   ..\n",
       "Hempler Foods Group LLC    Sausages, Hotdogs & Brats                1\n",
       "Heinz USA                  Pickles, Olives, Peppers & Relishes      1\n",
       "Heinz Frozen Food Company  Canned Soup                              1\n",
       "Heintz & Weber Co Inc      Ketchup, Mustard, BBQ & Cheese Sauce     1\n",
       "pure batch LLC             Chocolate                                1\n",
       "Name: fdc_id, Length: 5892, dtype: int64"
      ]
     },
     "execution_count": 25,
     "metadata": {},
     "output_type": "execute_result"
    }
   ],
   "source": [
    "food_merged_brands.groupby(\n",
    "    [\"brand_owner\", \"branded_food_category\"]\n",
    ")[\"fdc_id\"].nunique().sort_values(ascending=False)"
   ]
  },
  {
   "cell_type": "code",
   "execution_count": null,
   "metadata": {},
   "outputs": [],
   "source": []
  }
 ],
 "metadata": {
  "interpreter": {
   "hash": "aee8b7b246df8f9039afb4144a1f6fd8d2ca17a180786b69acc140d282b71a49"
  },
  "kernelspec": {
   "display_name": "Python 3.10.1 64-bit",
   "language": "python",
   "name": "python3"
  },
  "language_info": {
   "codemirror_mode": {
    "name": "ipython",
    "version": 3
   },
   "file_extension": ".py",
   "mimetype": "text/x-python",
   "name": "python",
   "nbconvert_exporter": "python",
   "pygments_lexer": "ipython3",
   "version": "3.11.5"
  },
  "orig_nbformat": 4
 },
 "nbformat": 4,
 "nbformat_minor": 2
}
