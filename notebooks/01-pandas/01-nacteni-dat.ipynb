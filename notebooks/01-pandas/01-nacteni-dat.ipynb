{
 "cells": [
  {
   "cell_type": "markdown",
   "metadata": {},
   "source": [
    "# Načtení dat s využitím knihovny pandas"
   ]
  },
  {
   "cell_type": "markdown",
   "metadata": {},
   "source": [
    "## Základní práce s DataFrame\n",
    "\n",
    "Základní datový typ, který Pandas nabízí, je `DataFrame`, neboli lidově „tabulka”. \n",
    "\n",
    "Jednotlivé záznamy jsou v ní uvedeny jako řádky a části těchto záznamů jsou úhledně srovnány ve sloupcích.\n",
    "\n",
    "*Dokumentace: https://pandas.pydata.org/pandas-docs/stable/reference/api/pandas.DataFrame.html*\n"
   ]
  },
  {
   "cell_type": "code",
   "execution_count": 1,
   "metadata": {},
   "outputs": [],
   "source": [
    "import pandas as pd"
   ]
  },
  {
   "cell_type": "markdown",
   "metadata": {},
   "source": [
    "### Načítání dat\n",
    "\n",
    "**Funkce `read_csv()`** \n",
    "\n",
    "Dokumentace: https://pandas.pydata.org/pandas-docs/stable/reference/api/pandas.read_csv.html\n",
    "\n",
    "Pandas nabízí kromě funkce `read_csv()` také funkci pro čtení formátu JSON `read_json()` nebo dokonce funkci pro čtení přímo Excelových tabulek `read_excel()`."
   ]
  },
  {
   "cell_type": "markdown",
   "metadata": {},
   "source": [
    "**Načtení csv souboru**"
   ]
  },
  {
   "cell_type": "code",
   "execution_count": 2,
   "metadata": {},
   "outputs": [],
   "source": [
    "url_food_sample_100 = \"https://kodim.cz/cms/assets/czechitas/python-data-1/python-pro-data-1/nacteni-dat/nacteni-dat/food_sample_100.csv\"\n",
    "\n",
    "# url_food_sample_100 = \"food_sample_100.csv\" # csv je ve stejne slozce jako notebook\n",
    "# url_food_sample_100 = \"../../../data/food_sample_100.csv\" # csv je v jine slozce nez notebook, tady v nadrazene slozce data\n",
    "\n",
    "food = pd.read_csv(url_food_sample_100)"
   ]
  },
  {
   "cell_type": "code",
   "execution_count": 3,
   "metadata": {},
   "outputs": [
    {
     "data": {
      "text/html": [
       "<div>\n",
       "<style scoped>\n",
       "    .dataframe tbody tr th:only-of-type {\n",
       "        vertical-align: middle;\n",
       "    }\n",
       "\n",
       "    .dataframe tbody tr th {\n",
       "        vertical-align: top;\n",
       "    }\n",
       "\n",
       "    .dataframe thead th {\n",
       "        text-align: right;\n",
       "    }\n",
       "</style>\n",
       "<table border=\"1\" class=\"dataframe\">\n",
       "  <thead>\n",
       "    <tr style=\"text-align: right;\">\n",
       "      <th></th>\n",
       "      <th>fdc_id</th>\n",
       "      <th>data_type</th>\n",
       "      <th>description</th>\n",
       "      <th>food_category_id</th>\n",
       "      <th>publication_date</th>\n",
       "    </tr>\n",
       "  </thead>\n",
       "  <tbody>\n",
       "    <tr>\n",
       "      <th>0</th>\n",
       "      <td>2644829</td>\n",
       "      <td>sub_sample_food</td>\n",
       "      <td>lentils, dry</td>\n",
       "      <td>16.0</td>\n",
       "      <td>2023-10-19</td>\n",
       "    </tr>\n",
       "    <tr>\n",
       "      <th>1</th>\n",
       "      <td>2347263</td>\n",
       "      <td>sub_sample_food</td>\n",
       "      <td>heavy cream</td>\n",
       "      <td>1.0</td>\n",
       "      <td>2022-10-28</td>\n",
       "    </tr>\n",
       "    <tr>\n",
       "      <th>2</th>\n",
       "      <td>2261954</td>\n",
       "      <td>sub_sample_food</td>\n",
       "      <td>Flour, potato</td>\n",
       "      <td>11.0</td>\n",
       "      <td>2022-04-28</td>\n",
       "    </tr>\n",
       "    <tr>\n",
       "      <th>3</th>\n",
       "      <td>321470</td>\n",
       "      <td>sub_sample_food</td>\n",
       "      <td>Salt, Iodized</td>\n",
       "      <td>2.0</td>\n",
       "      <td>2019-04-01</td>\n",
       "    </tr>\n",
       "    <tr>\n",
       "      <th>4</th>\n",
       "      <td>322951</td>\n",
       "      <td>sub_sample_food</td>\n",
       "      <td>Hot dogs beef</td>\n",
       "      <td>7.0</td>\n",
       "      <td>2019-04-01</td>\n",
       "    </tr>\n",
       "    <tr>\n",
       "      <th>...</th>\n",
       "      <td>...</td>\n",
       "      <td>...</td>\n",
       "      <td>...</td>\n",
       "      <td>...</td>\n",
       "      <td>...</td>\n",
       "    </tr>\n",
       "    <tr>\n",
       "      <th>95</th>\n",
       "      <td>2260615</td>\n",
       "      <td>sub_sample_food</td>\n",
       "      <td>Yogurt, whole milk, plain</td>\n",
       "      <td>1.0</td>\n",
       "      <td>2022-04-28</td>\n",
       "    </tr>\n",
       "    <tr>\n",
       "      <th>96</th>\n",
       "      <td>2646468</td>\n",
       "      <td>sub_sample_food</td>\n",
       "      <td>chicken, breast, boneless, skinless</td>\n",
       "      <td>5.0</td>\n",
       "      <td>2023-10-19</td>\n",
       "    </tr>\n",
       "    <tr>\n",
       "      <th>97</th>\n",
       "      <td>2647032</td>\n",
       "      <td>sub_sample_food</td>\n",
       "      <td>pork, loin, boneless</td>\n",
       "      <td>10.0</td>\n",
       "      <td>2023-10-19</td>\n",
       "    </tr>\n",
       "    <tr>\n",
       "      <th>98</th>\n",
       "      <td>2349564</td>\n",
       "      <td>sub_sample_food</td>\n",
       "      <td>Oats, whole grain, rolled, old fashioned</td>\n",
       "      <td>20.0</td>\n",
       "      <td>2022-10-28</td>\n",
       "    </tr>\n",
       "    <tr>\n",
       "      <th>99</th>\n",
       "      <td>328565</td>\n",
       "      <td>market_acquisition</td>\n",
       "      <td>Cheese, cheddar, mild, block/chunk, store bran...</td>\n",
       "      <td>1.0</td>\n",
       "      <td>2019-04-01</td>\n",
       "    </tr>\n",
       "  </tbody>\n",
       "</table>\n",
       "<p>100 rows × 5 columns</p>\n",
       "</div>"
      ],
      "text/plain": [
       "     fdc_id           data_type  \\\n",
       "0   2644829     sub_sample_food   \n",
       "1   2347263     sub_sample_food   \n",
       "2   2261954     sub_sample_food   \n",
       "3    321470     sub_sample_food   \n",
       "4    322951     sub_sample_food   \n",
       "..      ...                 ...   \n",
       "95  2260615     sub_sample_food   \n",
       "96  2646468     sub_sample_food   \n",
       "97  2647032     sub_sample_food   \n",
       "98  2349564     sub_sample_food   \n",
       "99   328565  market_acquisition   \n",
       "\n",
       "                                          description  food_category_id  \\\n",
       "0                                        lentils, dry              16.0   \n",
       "1                                         heavy cream               1.0   \n",
       "2                                       Flour, potato              11.0   \n",
       "3                                       Salt, Iodized               2.0   \n",
       "4                                       Hot dogs beef               7.0   \n",
       "..                                                ...               ...   \n",
       "95                          Yogurt, whole milk, plain               1.0   \n",
       "96                chicken, breast, boneless, skinless               5.0   \n",
       "97                               pork, loin, boneless              10.0   \n",
       "98           Oats, whole grain, rolled, old fashioned              20.0   \n",
       "99  Cheese, cheddar, mild, block/chunk, store bran...               1.0   \n",
       "\n",
       "   publication_date  \n",
       "0        2023-10-19  \n",
       "1        2022-10-28  \n",
       "2        2022-04-28  \n",
       "3        2019-04-01  \n",
       "4        2019-04-01  \n",
       "..              ...  \n",
       "95       2022-04-28  \n",
       "96       2023-10-19  \n",
       "97       2023-10-19  \n",
       "98       2022-10-28  \n",
       "99       2019-04-01  \n",
       "\n",
       "[100 rows x 5 columns]"
      ]
     },
     "execution_count": 3,
     "metadata": {},
     "output_type": "execute_result"
    }
   ],
   "source": [
    "food\n",
    "# print(food)"
   ]
  },
  {
   "cell_type": "markdown",
   "metadata": {},
   "source": [
    "### Index\n",
    "\n",
    "Všimni si, že pandas nám přidal nový sloupec s číslem řádku.\n",
    "\n",
    "Index je hodnota, která identifikuje řádek. \n",
    "\n",
    "V některých případech nemusíme jako index používat číslo řádku, ale můžeme jako index vybrat některý ze sloupců. Obdobnou funkci má v databázích primární klíč. \n"
   ]
  },
  {
   "cell_type": "code",
   "execution_count": 4,
   "metadata": {},
   "outputs": [
    {
     "data": {
      "text/html": [
       "<div>\n",
       "<style scoped>\n",
       "    .dataframe tbody tr th:only-of-type {\n",
       "        vertical-align: middle;\n",
       "    }\n",
       "\n",
       "    .dataframe tbody tr th {\n",
       "        vertical-align: top;\n",
       "    }\n",
       "\n",
       "    .dataframe thead th {\n",
       "        text-align: right;\n",
       "    }\n",
       "</style>\n",
       "<table border=\"1\" class=\"dataframe\">\n",
       "  <thead>\n",
       "    <tr style=\"text-align: right;\">\n",
       "      <th></th>\n",
       "      <th>data_type</th>\n",
       "      <th>description</th>\n",
       "      <th>food_category_id</th>\n",
       "      <th>publication_date</th>\n",
       "    </tr>\n",
       "    <tr>\n",
       "      <th>fdc_id</th>\n",
       "      <th></th>\n",
       "      <th></th>\n",
       "      <th></th>\n",
       "      <th></th>\n",
       "    </tr>\n",
       "  </thead>\n",
       "  <tbody>\n",
       "    <tr>\n",
       "      <th>2644829</th>\n",
       "      <td>sub_sample_food</td>\n",
       "      <td>lentils, dry</td>\n",
       "      <td>16.0</td>\n",
       "      <td>2023-10-19</td>\n",
       "    </tr>\n",
       "    <tr>\n",
       "      <th>2347263</th>\n",
       "      <td>sub_sample_food</td>\n",
       "      <td>heavy cream</td>\n",
       "      <td>1.0</td>\n",
       "      <td>2022-10-28</td>\n",
       "    </tr>\n",
       "    <tr>\n",
       "      <th>2261954</th>\n",
       "      <td>sub_sample_food</td>\n",
       "      <td>Flour, potato</td>\n",
       "      <td>11.0</td>\n",
       "      <td>2022-04-28</td>\n",
       "    </tr>\n",
       "    <tr>\n",
       "      <th>321470</th>\n",
       "      <td>sub_sample_food</td>\n",
       "      <td>Salt, Iodized</td>\n",
       "      <td>2.0</td>\n",
       "      <td>2019-04-01</td>\n",
       "    </tr>\n",
       "    <tr>\n",
       "      <th>322951</th>\n",
       "      <td>sub_sample_food</td>\n",
       "      <td>Hot dogs beef</td>\n",
       "      <td>7.0</td>\n",
       "      <td>2019-04-01</td>\n",
       "    </tr>\n",
       "    <tr>\n",
       "      <th>...</th>\n",
       "      <td>...</td>\n",
       "      <td>...</td>\n",
       "      <td>...</td>\n",
       "      <td>...</td>\n",
       "    </tr>\n",
       "    <tr>\n",
       "      <th>2260615</th>\n",
       "      <td>sub_sample_food</td>\n",
       "      <td>Yogurt, whole milk, plain</td>\n",
       "      <td>1.0</td>\n",
       "      <td>2022-04-28</td>\n",
       "    </tr>\n",
       "    <tr>\n",
       "      <th>2646468</th>\n",
       "      <td>sub_sample_food</td>\n",
       "      <td>chicken, breast, boneless, skinless</td>\n",
       "      <td>5.0</td>\n",
       "      <td>2023-10-19</td>\n",
       "    </tr>\n",
       "    <tr>\n",
       "      <th>2647032</th>\n",
       "      <td>sub_sample_food</td>\n",
       "      <td>pork, loin, boneless</td>\n",
       "      <td>10.0</td>\n",
       "      <td>2023-10-19</td>\n",
       "    </tr>\n",
       "    <tr>\n",
       "      <th>2349564</th>\n",
       "      <td>sub_sample_food</td>\n",
       "      <td>Oats, whole grain, rolled, old fashioned</td>\n",
       "      <td>20.0</td>\n",
       "      <td>2022-10-28</td>\n",
       "    </tr>\n",
       "    <tr>\n",
       "      <th>328565</th>\n",
       "      <td>market_acquisition</td>\n",
       "      <td>Cheese, cheddar, mild, block/chunk, store bran...</td>\n",
       "      <td>1.0</td>\n",
       "      <td>2019-04-01</td>\n",
       "    </tr>\n",
       "  </tbody>\n",
       "</table>\n",
       "<p>100 rows × 4 columns</p>\n",
       "</div>"
      ],
      "text/plain": [
       "                  data_type  \\\n",
       "fdc_id                        \n",
       "2644829     sub_sample_food   \n",
       "2347263     sub_sample_food   \n",
       "2261954     sub_sample_food   \n",
       "321470      sub_sample_food   \n",
       "322951      sub_sample_food   \n",
       "...                     ...   \n",
       "2260615     sub_sample_food   \n",
       "2646468     sub_sample_food   \n",
       "2647032     sub_sample_food   \n",
       "2349564     sub_sample_food   \n",
       "328565   market_acquisition   \n",
       "\n",
       "                                               description  food_category_id  \\\n",
       "fdc_id                                                                         \n",
       "2644829                                       lentils, dry              16.0   \n",
       "2347263                                        heavy cream               1.0   \n",
       "2261954                                      Flour, potato              11.0   \n",
       "321470                                       Salt, Iodized               2.0   \n",
       "322951                                       Hot dogs beef               7.0   \n",
       "...                                                    ...               ...   \n",
       "2260615                          Yogurt, whole milk, plain               1.0   \n",
       "2646468                chicken, breast, boneless, skinless               5.0   \n",
       "2647032                               pork, loin, boneless              10.0   \n",
       "2349564           Oats, whole grain, rolled, old fashioned              20.0   \n",
       "328565   Cheese, cheddar, mild, block/chunk, store bran...               1.0   \n",
       "\n",
       "        publication_date  \n",
       "fdc_id                    \n",
       "2644829       2023-10-19  \n",
       "2347263       2022-10-28  \n",
       "2261954       2022-04-28  \n",
       "321470        2019-04-01  \n",
       "322951        2019-04-01  \n",
       "...                  ...  \n",
       "2260615       2022-04-28  \n",
       "2646468       2023-10-19  \n",
       "2647032       2023-10-19  \n",
       "2349564       2022-10-28  \n",
       "328565        2019-04-01  \n",
       "\n",
       "[100 rows x 4 columns]"
      ]
     },
     "execution_count": 4,
     "metadata": {},
     "output_type": "execute_result"
    }
   ],
   "source": [
    "food.set_index(\"fdc_id\")\n",
    "# food.reset_index()"
   ]
  },
  {
   "cell_type": "markdown",
   "metadata": {},
   "source": [
    "### Základní informace o tabulce\n",
    "\n",
    "Metoda `info()` vrací souhrnné informace o celé tabulce: názvy sloupců, datové typy, počet neprázdných hodnot atd."
   ]
  },
  {
   "cell_type": "code",
   "execution_count": 5,
   "metadata": {},
   "outputs": [
    {
     "name": "stdout",
     "output_type": "stream",
     "text": [
      "<class 'pandas.core.frame.DataFrame'>\n",
      "RangeIndex: 100 entries, 0 to 99\n",
      "Data columns (total 5 columns):\n",
      " #   Column            Non-Null Count  Dtype  \n",
      "---  ------            --------------  -----  \n",
      " 0   fdc_id            100 non-null    int64  \n",
      " 1   data_type         100 non-null    object \n",
      " 2   description       100 non-null    object \n",
      " 3   food_category_id  99 non-null     float64\n",
      " 4   publication_date  100 non-null    object \n",
      "dtypes: float64(1), int64(1), object(3)\n",
      "memory usage: 4.0+ KB\n"
     ]
    }
   ],
   "source": [
    "food.info()"
   ]
  },
  {
   "cell_type": "markdown",
   "metadata": {},
   "source": [
    "Počet řádků a sloupců můžeme získat z vlastnosti `shape`.\n",
    "\n",
    "Můžeme si z ní data načíst stejně jako ze seznamu, na prvním místě je vždy počet řádků a na druhém počet sloupců."
   ]
  },
  {
   "cell_type": "code",
   "execution_count": 6,
   "metadata": {},
   "outputs": [
    {
     "data": {
      "text/plain": [
       "(100, 5)"
      ]
     },
     "execution_count": 6,
     "metadata": {},
     "output_type": "execute_result"
    }
   ],
   "source": [
    "food.shape"
   ]
  },
  {
   "cell_type": "code",
   "execution_count": 7,
   "metadata": {},
   "outputs": [
    {
     "name": "stdout",
     "output_type": "stream",
     "text": [
      "Moje data mají 100 řádků.\n"
     ]
    }
   ],
   "source": [
    "# Pokud by nás třeba zajímal jen počet řádků, napíšeme:\n",
    "pocet_radku = food.shape[0]\n",
    "\n",
    "print(f\"Moje data mají {pocet_radku} řádků.\")"
   ]
  },
  {
   "cell_type": "markdown",
   "metadata": {},
   "source": [
    "\n",
    "Názvy všech sloupců získáme pomocí vlastnosti `columns`."
   ]
  },
  {
   "cell_type": "code",
   "execution_count": 8,
   "metadata": {},
   "outputs": [
    {
     "data": {
      "text/plain": [
       "Index(['fdc_id', 'data_type', 'description', 'food_category_id',\n",
       "       'publication_date'],\n",
       "      dtype='object')"
      ]
     },
     "execution_count": 8,
     "metadata": {},
     "output_type": "execute_result"
    }
   ],
   "source": [
    "food.columns"
   ]
  },
  {
   "cell_type": "markdown",
   "metadata": {},
   "source": [
    "### Začátek a konec\n",
    "\n",
    "K zobrazení posledních několik řádků můžeme použít i funkce `head()` a `tail()`."
   ]
  },
  {
   "cell_type": "code",
   "execution_count": 9,
   "metadata": {},
   "outputs": [
    {
     "data": {
      "text/html": [
       "<div>\n",
       "<style scoped>\n",
       "    .dataframe tbody tr th:only-of-type {\n",
       "        vertical-align: middle;\n",
       "    }\n",
       "\n",
       "    .dataframe tbody tr th {\n",
       "        vertical-align: top;\n",
       "    }\n",
       "\n",
       "    .dataframe thead th {\n",
       "        text-align: right;\n",
       "    }\n",
       "</style>\n",
       "<table border=\"1\" class=\"dataframe\">\n",
       "  <thead>\n",
       "    <tr style=\"text-align: right;\">\n",
       "      <th></th>\n",
       "      <th>fdc_id</th>\n",
       "      <th>data_type</th>\n",
       "      <th>description</th>\n",
       "      <th>food_category_id</th>\n",
       "      <th>publication_date</th>\n",
       "    </tr>\n",
       "  </thead>\n",
       "  <tbody>\n",
       "    <tr>\n",
       "      <th>0</th>\n",
       "      <td>2644829</td>\n",
       "      <td>sub_sample_food</td>\n",
       "      <td>lentils, dry</td>\n",
       "      <td>16.0</td>\n",
       "      <td>2023-10-19</td>\n",
       "    </tr>\n",
       "    <tr>\n",
       "      <th>1</th>\n",
       "      <td>2347263</td>\n",
       "      <td>sub_sample_food</td>\n",
       "      <td>heavy cream</td>\n",
       "      <td>1.0</td>\n",
       "      <td>2022-10-28</td>\n",
       "    </tr>\n",
       "    <tr>\n",
       "      <th>2</th>\n",
       "      <td>2261954</td>\n",
       "      <td>sub_sample_food</td>\n",
       "      <td>Flour, potato</td>\n",
       "      <td>11.0</td>\n",
       "      <td>2022-04-28</td>\n",
       "    </tr>\n",
       "    <tr>\n",
       "      <th>3</th>\n",
       "      <td>321470</td>\n",
       "      <td>sub_sample_food</td>\n",
       "      <td>Salt, Iodized</td>\n",
       "      <td>2.0</td>\n",
       "      <td>2019-04-01</td>\n",
       "    </tr>\n",
       "    <tr>\n",
       "      <th>4</th>\n",
       "      <td>322951</td>\n",
       "      <td>sub_sample_food</td>\n",
       "      <td>Hot dogs beef</td>\n",
       "      <td>7.0</td>\n",
       "      <td>2019-04-01</td>\n",
       "    </tr>\n",
       "  </tbody>\n",
       "</table>\n",
       "</div>"
      ],
      "text/plain": [
       "    fdc_id        data_type    description  food_category_id publication_date\n",
       "0  2644829  sub_sample_food   lentils, dry              16.0       2023-10-19\n",
       "1  2347263  sub_sample_food    heavy cream               1.0       2022-10-28\n",
       "2  2261954  sub_sample_food  Flour, potato              11.0       2022-04-28\n",
       "3   321470  sub_sample_food  Salt, Iodized               2.0       2019-04-01\n",
       "4   322951  sub_sample_food  Hot dogs beef               7.0       2019-04-01"
      ]
     },
     "execution_count": 9,
     "metadata": {},
     "output_type": "execute_result"
    }
   ],
   "source": [
    "food.head()  # food.head(10) zobrazi 10 prvnich radek"
   ]
  },
  {
   "cell_type": "code",
   "execution_count": 10,
   "metadata": {},
   "outputs": [
    {
     "data": {
      "text/html": [
       "<div>\n",
       "<style scoped>\n",
       "    .dataframe tbody tr th:only-of-type {\n",
       "        vertical-align: middle;\n",
       "    }\n",
       "\n",
       "    .dataframe tbody tr th {\n",
       "        vertical-align: top;\n",
       "    }\n",
       "\n",
       "    .dataframe thead th {\n",
       "        text-align: right;\n",
       "    }\n",
       "</style>\n",
       "<table border=\"1\" class=\"dataframe\">\n",
       "  <thead>\n",
       "    <tr style=\"text-align: right;\">\n",
       "      <th></th>\n",
       "      <th>fdc_id</th>\n",
       "      <th>data_type</th>\n",
       "      <th>description</th>\n",
       "      <th>food_category_id</th>\n",
       "      <th>publication_date</th>\n",
       "    </tr>\n",
       "  </thead>\n",
       "  <tbody>\n",
       "    <tr>\n",
       "      <th>95</th>\n",
       "      <td>2260615</td>\n",
       "      <td>sub_sample_food</td>\n",
       "      <td>Yogurt, whole milk, plain</td>\n",
       "      <td>1.0</td>\n",
       "      <td>2022-04-28</td>\n",
       "    </tr>\n",
       "    <tr>\n",
       "      <th>96</th>\n",
       "      <td>2646468</td>\n",
       "      <td>sub_sample_food</td>\n",
       "      <td>chicken, breast, boneless, skinless</td>\n",
       "      <td>5.0</td>\n",
       "      <td>2023-10-19</td>\n",
       "    </tr>\n",
       "    <tr>\n",
       "      <th>97</th>\n",
       "      <td>2647032</td>\n",
       "      <td>sub_sample_food</td>\n",
       "      <td>pork, loin, boneless</td>\n",
       "      <td>10.0</td>\n",
       "      <td>2023-10-19</td>\n",
       "    </tr>\n",
       "    <tr>\n",
       "      <th>98</th>\n",
       "      <td>2349564</td>\n",
       "      <td>sub_sample_food</td>\n",
       "      <td>Oats, whole grain, rolled, old fashioned</td>\n",
       "      <td>20.0</td>\n",
       "      <td>2022-10-28</td>\n",
       "    </tr>\n",
       "    <tr>\n",
       "      <th>99</th>\n",
       "      <td>328565</td>\n",
       "      <td>market_acquisition</td>\n",
       "      <td>Cheese, cheddar, mild, block/chunk, store bran...</td>\n",
       "      <td>1.0</td>\n",
       "      <td>2019-04-01</td>\n",
       "    </tr>\n",
       "  </tbody>\n",
       "</table>\n",
       "</div>"
      ],
      "text/plain": [
       "     fdc_id           data_type  \\\n",
       "95  2260615     sub_sample_food   \n",
       "96  2646468     sub_sample_food   \n",
       "97  2647032     sub_sample_food   \n",
       "98  2349564     sub_sample_food   \n",
       "99   328565  market_acquisition   \n",
       "\n",
       "                                          description  food_category_id  \\\n",
       "95                          Yogurt, whole milk, plain               1.0   \n",
       "96                chicken, breast, boneless, skinless               5.0   \n",
       "97                               pork, loin, boneless              10.0   \n",
       "98           Oats, whole grain, rolled, old fashioned              20.0   \n",
       "99  Cheese, cheddar, mild, block/chunk, store bran...               1.0   \n",
       "\n",
       "   publication_date  \n",
       "95       2022-04-28  \n",
       "96       2023-10-19  \n",
       "97       2023-10-19  \n",
       "98       2022-10-28  \n",
       "99       2019-04-01  "
      ]
     },
     "execution_count": 10,
     "metadata": {},
     "output_type": "execute_result"
    }
   ],
   "source": [
    "food.tail()"
   ]
  },
  {
   "cell_type": "markdown",
   "metadata": {},
   "source": [
    "## Výběr sloupců\n",
    "\n",
    "Pokud vybíráme pouze jeden sloupec, vrátí se nám takzvaná Série (`Series`), což je jiný datový typ než `DataFrame`. \n",
    "\n",
    "Sérii si představme jako jednorozměrnou tabulku.\n"
   ]
  },
  {
   "cell_type": "code",
   "execution_count": 11,
   "metadata": {},
   "outputs": [
    {
     "data": {
      "text/plain": [
       "0                                          lentils, dry\n",
       "1                                           heavy cream\n",
       "2                                         Flour, potato\n",
       "3                                         Salt, Iodized\n",
       "4                                         Hot dogs beef\n",
       "                            ...                        \n",
       "95                            Yogurt, whole milk, plain\n",
       "96                  chicken, breast, boneless, skinless\n",
       "97                                 pork, loin, boneless\n",
       "98             Oats, whole grain, rolled, old fashioned\n",
       "99    Cheese, cheddar, mild, block/chunk, store bran...\n",
       "Name: description, Length: 100, dtype: object"
      ]
     },
     "execution_count": 11,
     "metadata": {},
     "output_type": "execute_result"
    }
   ],
   "source": [
    "food[\"description\"]"
   ]
  },
  {
   "cell_type": "markdown",
   "metadata": {},
   "source": [
    "Pro výběr více sloupců musíme do indexace DataFrame vložit seznam s názvy sloupců."
   ]
  },
  {
   "cell_type": "code",
   "execution_count": 12,
   "metadata": {},
   "outputs": [
    {
     "data": {
      "text/html": [
       "<div>\n",
       "<style scoped>\n",
       "    .dataframe tbody tr th:only-of-type {\n",
       "        vertical-align: middle;\n",
       "    }\n",
       "\n",
       "    .dataframe tbody tr th {\n",
       "        vertical-align: top;\n",
       "    }\n",
       "\n",
       "    .dataframe thead th {\n",
       "        text-align: right;\n",
       "    }\n",
       "</style>\n",
       "<table border=\"1\" class=\"dataframe\">\n",
       "  <thead>\n",
       "    <tr style=\"text-align: right;\">\n",
       "      <th></th>\n",
       "      <th>fdc_id</th>\n",
       "      <th>description</th>\n",
       "    </tr>\n",
       "  </thead>\n",
       "  <tbody>\n",
       "    <tr>\n",
       "      <th>0</th>\n",
       "      <td>2644829</td>\n",
       "      <td>lentils, dry</td>\n",
       "    </tr>\n",
       "    <tr>\n",
       "      <th>1</th>\n",
       "      <td>2347263</td>\n",
       "      <td>heavy cream</td>\n",
       "    </tr>\n",
       "    <tr>\n",
       "      <th>2</th>\n",
       "      <td>2261954</td>\n",
       "      <td>Flour, potato</td>\n",
       "    </tr>\n",
       "    <tr>\n",
       "      <th>3</th>\n",
       "      <td>321470</td>\n",
       "      <td>Salt, Iodized</td>\n",
       "    </tr>\n",
       "    <tr>\n",
       "      <th>4</th>\n",
       "      <td>322951</td>\n",
       "      <td>Hot dogs beef</td>\n",
       "    </tr>\n",
       "    <tr>\n",
       "      <th>...</th>\n",
       "      <td>...</td>\n",
       "      <td>...</td>\n",
       "    </tr>\n",
       "    <tr>\n",
       "      <th>95</th>\n",
       "      <td>2260615</td>\n",
       "      <td>Yogurt, whole milk, plain</td>\n",
       "    </tr>\n",
       "    <tr>\n",
       "      <th>96</th>\n",
       "      <td>2646468</td>\n",
       "      <td>chicken, breast, boneless, skinless</td>\n",
       "    </tr>\n",
       "    <tr>\n",
       "      <th>97</th>\n",
       "      <td>2647032</td>\n",
       "      <td>pork, loin, boneless</td>\n",
       "    </tr>\n",
       "    <tr>\n",
       "      <th>98</th>\n",
       "      <td>2349564</td>\n",
       "      <td>Oats, whole grain, rolled, old fashioned</td>\n",
       "    </tr>\n",
       "    <tr>\n",
       "      <th>99</th>\n",
       "      <td>328565</td>\n",
       "      <td>Cheese, cheddar, mild, block/chunk, store bran...</td>\n",
       "    </tr>\n",
       "  </tbody>\n",
       "</table>\n",
       "<p>100 rows × 2 columns</p>\n",
       "</div>"
      ],
      "text/plain": [
       "     fdc_id                                        description\n",
       "0   2644829                                       lentils, dry\n",
       "1   2347263                                        heavy cream\n",
       "2   2261954                                      Flour, potato\n",
       "3    321470                                      Salt, Iodized\n",
       "4    322951                                      Hot dogs beef\n",
       "..      ...                                                ...\n",
       "95  2260615                          Yogurt, whole milk, plain\n",
       "96  2646468                chicken, breast, boneless, skinless\n",
       "97  2647032                               pork, loin, boneless\n",
       "98  2349564           Oats, whole grain, rolled, old fashioned\n",
       "99   328565  Cheese, cheddar, mild, block/chunk, store bran...\n",
       "\n",
       "[100 rows x 2 columns]"
      ]
     },
     "execution_count": 12,
     "metadata": {},
     "output_type": "execute_result"
    }
   ],
   "source": [
    "food[[\"fdc_id\", \"description\"]]"
   ]
  },
  {
   "cell_type": "code",
   "execution_count": 13,
   "metadata": {},
   "outputs": [
    {
     "data": {
      "text/html": [
       "<div>\n",
       "<style scoped>\n",
       "    .dataframe tbody tr th:only-of-type {\n",
       "        vertical-align: middle;\n",
       "    }\n",
       "\n",
       "    .dataframe tbody tr th {\n",
       "        vertical-align: top;\n",
       "    }\n",
       "\n",
       "    .dataframe thead th {\n",
       "        text-align: right;\n",
       "    }\n",
       "</style>\n",
       "<table border=\"1\" class=\"dataframe\">\n",
       "  <thead>\n",
       "    <tr style=\"text-align: right;\">\n",
       "      <th></th>\n",
       "      <th>description</th>\n",
       "    </tr>\n",
       "  </thead>\n",
       "  <tbody>\n",
       "    <tr>\n",
       "      <th>0</th>\n",
       "      <td>lentils, dry</td>\n",
       "    </tr>\n",
       "    <tr>\n",
       "      <th>1</th>\n",
       "      <td>heavy cream</td>\n",
       "    </tr>\n",
       "    <tr>\n",
       "      <th>2</th>\n",
       "      <td>Flour, potato</td>\n",
       "    </tr>\n",
       "    <tr>\n",
       "      <th>3</th>\n",
       "      <td>Salt, Iodized</td>\n",
       "    </tr>\n",
       "    <tr>\n",
       "      <th>4</th>\n",
       "      <td>Hot dogs beef</td>\n",
       "    </tr>\n",
       "    <tr>\n",
       "      <th>...</th>\n",
       "      <td>...</td>\n",
       "    </tr>\n",
       "    <tr>\n",
       "      <th>95</th>\n",
       "      <td>Yogurt, whole milk, plain</td>\n",
       "    </tr>\n",
       "    <tr>\n",
       "      <th>96</th>\n",
       "      <td>chicken, breast, boneless, skinless</td>\n",
       "    </tr>\n",
       "    <tr>\n",
       "      <th>97</th>\n",
       "      <td>pork, loin, boneless</td>\n",
       "    </tr>\n",
       "    <tr>\n",
       "      <th>98</th>\n",
       "      <td>Oats, whole grain, rolled, old fashioned</td>\n",
       "    </tr>\n",
       "    <tr>\n",
       "      <th>99</th>\n",
       "      <td>Cheese, cheddar, mild, block/chunk, store bran...</td>\n",
       "    </tr>\n",
       "  </tbody>\n",
       "</table>\n",
       "<p>100 rows × 1 columns</p>\n",
       "</div>"
      ],
      "text/plain": [
       "                                          description\n",
       "0                                        lentils, dry\n",
       "1                                         heavy cream\n",
       "2                                       Flour, potato\n",
       "3                                       Salt, Iodized\n",
       "4                                       Hot dogs beef\n",
       "..                                                ...\n",
       "95                          Yogurt, whole milk, plain\n",
       "96                chicken, breast, boneless, skinless\n",
       "97                               pork, loin, boneless\n",
       "98           Oats, whole grain, rolled, old fashioned\n",
       "99  Cheese, cheddar, mild, block/chunk, store bran...\n",
       "\n",
       "[100 rows x 1 columns]"
      ]
     },
     "execution_count": 13,
     "metadata": {},
     "output_type": "execute_result"
    }
   ],
   "source": [
    "# Tady se nám již vrátil datový typ DataFrame.\n",
    "# Tohoto triku můžeme využít, když\n",
    "# - chceme získat pouze jeden sloupec,\n",
    "# - ale nechceme ho v datovém typu Série,\n",
    "# - ale jako DataFrame.\n",
    "\n",
    "food[[\"description\"]]"
   ]
  },
  {
   "cell_type": "markdown",
   "metadata": {},
   "source": [
    "---\n",
    "### \n",
    "\n"
   ]
  },
  {
   "cell_type": "markdown",
   "metadata": {},
   "source": [
    "# Cvičení\n",
    "## Titanic data set\n",
    "\n",
    "Každý tutoriál datové analýzy začíná zpracováváním data setu pasažérů lodi Titanic. \n",
    "\n",
    "Nebude tomu jinak ani v našem případě. Stáhni si soubor [titanic.csv](https://kodim.cz/cms/assets/czechitas/python-data-1/python-pro-data-1/nacteni-dat/excs/titanic/titanic.csv).\n"
   ]
  },
  {
   "cell_type": "markdown",
   "metadata": {},
   "source": [
    "Načti data do `DataFrame`, který si pojmenuj `titanic`.\n"
   ]
  },
  {
   "cell_type": "code",
   "execution_count": null,
   "metadata": {},
   "outputs": [],
   "source": [
    "url = \"https://kodim.cz/cms/assets/czechitas/python-data-1/python-pro-data-1/nacteni-dat/excs/titanic/titanic.csv\"\n"
   ]
  },
  {
   "cell_type": "markdown",
   "metadata": {},
   "source": [
    "Nech si zobrazit názvy sloupců, které jsou v souboru uloženy.\n"
   ]
  },
  {
   "cell_type": "code",
   "execution_count": null,
   "metadata": {},
   "outputs": [],
   "source": []
  },
  {
   "cell_type": "markdown",
   "metadata": {},
   "source": [
    "Podívej se, kolik má soubor řádků.\n"
   ]
  },
  {
   "cell_type": "code",
   "execution_count": null,
   "metadata": {},
   "outputs": [],
   "source": []
  },
  {
   "cell_type": "markdown",
   "metadata": {},
   "source": [
    "Zjisti, v jakých sloupcích nějaké hodnoty chybí."
   ]
  },
  {
   "cell_type": "code",
   "execution_count": null,
   "metadata": {},
   "outputs": [],
   "source": []
  }
 ],
 "metadata": {
  "kernelspec": {
   "display_name": "Python 3 (ipykernel)",
   "language": "python",
   "name": "python3"
  },
  "language_info": {
   "codemirror_mode": {
    "name": "ipython",
    "version": 3
   },
   "file_extension": ".py",
   "mimetype": "text/x-python",
   "name": "python",
   "nbconvert_exporter": "python",
   "pygments_lexer": "ipython3",
   "version": "3.11.5"
  },
  "vscode": {
   "interpreter": {
    "hash": "aee8b7b246df8f9039afb4144a1f6fd8d2ca17a180786b69acc140d282b71a49"
   }
  }
 },
 "nbformat": 4,
 "nbformat_minor": 2
}
