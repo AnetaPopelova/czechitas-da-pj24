{
 "cells": [
  {
   "cell_type": "code",
   "execution_count": 5,
   "metadata": {},
   "outputs": [
    {
     "data": {
      "text/plain": [
       "{'118 00 PRAHA 011',\n",
       " '130 00 PRAHA 3',\n",
       " '150 06 PRAHA 5',\n",
       " '186 00 PRAHA 86',\n",
       " '190 16 PRAHA 916',\n",
       " '273 01 KAMENNÉ ŽEHROVICE',\n",
       " '378 07 RAPŠACH',\n",
       " '378 08 DVORY NAD LUŽNICÍ',\n",
       " '397 04 PÍSEK 4',\n",
       " '398 11 PROTIVÍN',\n",
       " '460 15 LIBEREC 15',\n",
       " '507 11 VALDICE ',\n",
       " '512 11 VYSOKÉ NAD JIZEROU',\n",
       " '513 01 SEMILY',\n",
       " '623 00 BRNO 23',\n",
       " '742 45 FULNEK',\n",
       " '948 01 Lučenec'}"
      ]
     },
     "execution_count": 5,
     "metadata": {},
     "output_type": "execute_result"
    }
   ],
   "source": [
    "# kredit za spravne reseni patri @Mária Balúch\n",
    "\n",
    "import re\n",
    "\n",
    "with open ('posta.html',encoding='utf8') as file:\n",
    "    posta = file.read()\n",
    "posta = posta.replace('\\n',' ')\n",
    "posta = posta.replace('&nbsp;','')\n",
    "posta = re.compile(r' +').sub(' ',posta)\n",
    "psc_mesto = set(re.compile(r'\\d{3} \\d{2} [A-Za-zÀ-ž +]+\\d*').findall(posta))\n",
    "\n",
    "psc_mesto"
   ]
  },
  {
   "cell_type": "code",
   "execution_count": null,
   "metadata": {},
   "outputs": [],
   "source": []
  }
 ],
 "metadata": {
  "kernelspec": {
   "display_name": "Python 3.10.1 64-bit",
   "language": "python",
   "name": "python3"
  },
  "language_info": {
   "codemirror_mode": {
    "name": "ipython",
    "version": 3
   },
   "file_extension": ".py",
   "mimetype": "text/x-python",
   "name": "python",
   "nbconvert_exporter": "python",
   "pygments_lexer": "ipython3",
   "version": "3.11.5"
  },
  "orig_nbformat": 4,
  "vscode": {
   "interpreter": {
    "hash": "aee8b7b246df8f9039afb4144a1f6fd8d2ca17a180786b69acc140d282b71a49"
   }
  }
 },
 "nbformat": 4,
 "nbformat_minor": 2
}
