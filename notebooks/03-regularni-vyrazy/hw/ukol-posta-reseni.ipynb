{
 "cells": [
  {
   "cell_type": "code",
   "execution_count": 7,
   "metadata": {},
   "outputs": [
    {
     "data": {
      "text/plain": [
       "['190 16 PRAHA 916',\n",
       " '378 08 DVORY NAD LUŽNICÍ',\n",
       " '190 16 PRAHA 916',\n",
       " '378 08 DVORY NAD LUŽNICÍ',\n",
       " '186 00 PRAHA 86',\n",
       " '397 04 PÍSEK 4',\n",
       " '623 00 BRNO 23',\n",
       " '512 11 VYSOKÉ NAD',\n",
       " '378 07 RAPŠACH',\n",
       " '130 00 PRAHA 3',\n",
       " '273 01 KAMENNÉ ŽEHROVICE',\n",
       " '513 01 SEMILY',\n",
       " '398 11 PROTIVÍN',\n",
       " '742 45 FULNEK',\n",
       " '948 01 Lučenec']"
      ]
     },
     "execution_count": 7,
     "metadata": {},
     "output_type": "execute_result"
    }
   ],
   "source": [
    "import re\n",
    "\n",
    "with open(\"posta.html\", encoding='utf-8') as vstup:\n",
    "    web_posty = vstup.read()\n",
    "\n",
    "web_posty = web_posty.replace(\"\\n\", \" \")\n",
    "regex_mezery = re.compile(r\" +\")\n",
    "web_posty_bez_mezer = re.sub(regex_mezery,\" \", web_posty)\n",
    "regex_psc_a_mesto = re.compile(r\"\\d{3} \\d{2} [a-zA-ZÀ-ž ]+\\d*\")\n",
    "\n",
    "regex_psc_a_mesto.findall(web_posty_bez_mezer)"
   ]
  }
 ],
 "metadata": {
  "kernelspec": {
   "display_name": "Python 3.10.1 64-bit",
   "language": "python",
   "name": "python3"
  },
  "language_info": {
   "codemirror_mode": {
    "name": "ipython",
    "version": 3
   },
   "file_extension": ".py",
   "mimetype": "text/x-python",
   "name": "python",
   "nbconvert_exporter": "python",
   "pygments_lexer": "ipython3",
   "version": "3.10.1"
  },
  "orig_nbformat": 4,
  "vscode": {
   "interpreter": {
    "hash": "aee8b7b246df8f9039afb4144a1f6fd8d2ca17a180786b69acc140d282b71a49"
   }
  }
 },
 "nbformat": 4,
 "nbformat_minor": 2
}
