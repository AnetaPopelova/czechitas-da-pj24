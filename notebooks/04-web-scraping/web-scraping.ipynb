{
 "cells": [
  {
   "cell_type": "markdown",
   "metadata": {},
   "source": [
    "# Web scraping"
   ]
  },
  {
   "cell_type": "markdown",
   "metadata": {},
   "source": [
    "Naučíte se jak ve vašich Python programech vytáhnout data z webových stránek."
   ]
  },
  {
   "cell_type": "markdown",
   "metadata": {},
   "source": [
    "## HTML\n",
    "\n",
    "Webové stránky jsou textové soubory psané ve speciálním jazyce zvaném `HTML` (_HyperText Markup Language_). \n",
    "\n",
    "`HTML` není jazyk programovací, nýbrž takzvaně značkovací. \n",
    "\n",
    "Pomocí `HTML` tvůrci webů definují samotný obsah stránek, tedy texty, obrázky, odkazy apod. \n",
    "\n",
    "Samotný vzhled stránky (barvičky, styl písma, rozmístění prvků na stránce apod.) se vytváří v jazyce zvaném `CSS`."
   ]
  },
  {
   "cell_type": "markdown",
   "metadata": {},
   "source": [
    "### HTML značky (tagy)\n",
    "\n",
    "HTML elements reference:  https://developer.mozilla.org/en-US/docs/Web/HTML/Element"
   ]
  },
  {
   "cell_type": "markdown",
   "metadata": {},
   "source": [
    "<html>\n",
    "<head>\n",
    "  <meta charset=\"UTF-8\">\n",
    "  <title>Ukázka</title>\n",
    "</head>\n",
    "<body>\n",
    "  <h1>Nadpis první úrovně</h1>\n",
    "  <p>\n",
    "    Text nějakého odstavce, který obsahuje\n",
    "    <em>zvýrazněný text</em> a také <strong>\n",
    "    důležitý text.</strong>\n",
    "  </p>\n",
    "\n",
    "  <h2>Nadpis druhé úrovně</h2>\n",
    "  <div class=\"sekce1\">\n",
    "    <p>\n",
    "      Druhý odstavec je v takzvaném divu, což je\n",
    "      značka, která nemá sama o sobě žádný význam.\n",
    "      Také zde máme\n",
    "      <a href=\"http;://www.czechitas.cz\"> odkaz na\n",
    "      stránky Czechitas</a>.\n",
    "    </p>\n",
    "\n",
    "   <ol type=a>\n",
    "      <li>První položka seznamu</li>\n",
    "      <li>Druhá položka seznamu</li>\n",
    "      <li>Třetí položka seznamu</li>\n",
    "    </ol>\n",
    "  </div>\n",
    "</body>\n",
    "</html>"
   ]
  },
  {
   "cell_type": "markdown",
   "metadata": {},
   "source": [
    "```html\n",
    "<html>\n",
    "<head>\n",
    "  <meta charset=\"UTF-8\">\n",
    "  <title>Ukázka</title>\n",
    "</head>\n",
    "<body>\n",
    "  <h1>Nadpis první úrovně</h1>\n",
    "  <p>\n",
    "    Text nějakého odstavce, který obsahuje\n",
    "    <em>zvýrazněný text</em> a také <strong>\n",
    "    důležitý text.</strong>\n",
    "  </p>\n",
    "\n",
    "  <h2>Nadpis druhé úrovně</h2>\n",
    "  <div class=\"sekce1\">\n",
    "    <p>\n",
    "      Druhý odstavec je v takzvaném divu, což je\n",
    "      značka, která nemá sama o sobě žádný význam.\n",
    "      Také zde máme\n",
    "      <a href=\"http;://www.czechitas.cz\"> odkaz na\n",
    "      stránky Czechitas</a>.\n",
    "    </p>\n",
    "\n",
    "    <ol type=\"a\">\n",
    "      <li>První položka seznamu</li>\n",
    "      <li>Druhá položka seznamu</li>\n",
    "      <li>Třetí položka seznamu</li>\n",
    "    </ol>\n",
    "  </div>\n",
    "</body>\n",
    "</html>\n",
    "```"
   ]
  },
  {
   "cell_type": "markdown",
   "metadata": {},
   "source": [
    "Na adrese https://apps.kodim.cz/python-data/scrape najdete naši malou ukázkovou stránku z úvodu. \n",
    "\n",
    "\n",
    "Na adrese https://apps.kodim.cz/python-data/dhmo najdete také finální verzi stránky šířící poplach ohledně DHMO."
   ]
  },
  {
   "cell_type": "markdown",
   "metadata": {},
   "source": [
    "## Web scraping v Pythonu"
   ]
  },
  {
   "cell_type": "code",
   "execution_count": 72,
   "metadata": {},
   "outputs": [],
   "source": [
    "# !pip3 install bs4"
   ]
  },
  {
   "cell_type": "code",
   "execution_count": 73,
   "metadata": {},
   "outputs": [],
   "source": [
    "import requests\n",
    "from bs4 import BeautifulSoup"
   ]
  },
  {
   "cell_type": "code",
   "execution_count": 74,
   "metadata": {},
   "outputs": [],
   "source": [
    "# Načtení HTML souboru z lokálního úložiště\n",
    "with open(\"assets/dhmo/index-fixed.html\", encoding=\"utf-8\") as file:\n",
    "    html_content = file.read()\n",
    "\n",
    "# Vytvoření BeautifulSoup objektu pro lokální HTML\n",
    "soup = BeautifulSoup(html_content, 'html.parser')"
   ]
  },
  {
   "cell_type": "code",
   "execution_count": 75,
   "metadata": {},
   "outputs": [],
   "source": [
    "# Načtení HTML ze vzdáleného zdroje\n",
    "response = requests.get('https://apps.kodim.cz/python-data/dhmo/')\n",
    "remote_html_content = response.text\n",
    "\n",
    "# Vytvoření BeautifulSoup objektu pro vzdálené HTML\n",
    "soup = BeautifulSoup(remote_html_content, 'html.parser')"
   ]
  },
  {
   "cell_type": "code",
   "execution_count": 76,
   "metadata": {},
   "outputs": [
    {
     "name": "stdout",
     "output_type": "stream",
     "text": [
      "<!DOCTYPE html>\n",
      "<html lang=\"en\">\n",
      " <head>\n",
      "  <meta charset=\"utf-8\"/>\n",
      "  <meta content=\"width=device-width, initial-scale=1.0\" name=\"viewport\"/>\n",
      "  <meta content=\"ie=edge\" http-equiv=\"X-UA-Compatible\"/>\n",
      "  <link href=\"https://fonts.googleapis.com/css?family=Open+Sans:400,700,800&amp;subset=latin-ext\" rel=\"stylesheet\"/>\n",
      "  <link href=\"style.css\" rel=\"stylesheet\"/>\n",
      "  <title>\n",
      "   DHMO šíří hrůzu\n",
      "  </title>\n",
      " </head>\n",
      " <body>\n",
      "  <div class=\"container\">\n",
      "   <div class=\"intro\">\n",
      "    <h1>\n",
      "     Nebezpečný dihydrogen monoxid šíří hrůzu. Studenti jej chtějí zakázat.\n",
      "    </h1>\n",
      "    <p>\n",
      "     Dihydrogen monoxid tvoří hlavní součást kyselých dešťů, způsobuje mnoho vážných silničních nehod, jeho vdechnutí může zabíjet. Přesto vlády celého světa ignorují tato fakta a nepřistoupily k zákazu této chemikálie.\n",
      "    </p>\n",
      "    <img alt=\"DHMO\" class=\"my-2\" src=\"img/dhmo.jpg\"/>\n",
      "   </div>\n",
      "   <h2>\n",
      "    Strašák DHMO\n",
      "   </h2>\n",
      "   <p>\n",
      "    Tzv. dihydrogen monoxid je každoročně příčinou úmrtí mnoha lidí. Ve své plynné formě může způsobit popáleniny, ve své kapalné formě zase přispívá k erozi nebo korozi. Možná nejvíce výmluvným je fakt, že dihydrogen monoxid tvoří hlavní součást kyselých dešťů. Po požití může způsobit pocení a pocit vlhkosti. A co je možná nejzáludnější: jde o látku návykovou. Ti, kdo si na ni vypěstují závislost, bez něj nemohou přežít.\n",
      "   </p>\n",
      "   <p>\n",
      "    Přesto se nemalé množství dihydrogen monoxidu (DHMO) nachází v každé řece, jezeru nebo nádrži pitné vody v České republice, a proudí tak denně vodovodními trubkami do tisíců domácností. Vláda je přesto nečinná, a nechce o krocích proti DHMO ani slyšet.\n",
      "   </p>\n",
      "   <p>\n",
      "    Toho, jak je dihydrogen monoxid ve výzkumných kruzích opomíjený, si všimli již studenti Eric Lechner, Lars Norpchen, Matthew Kaufman a Craig Jaskson. Posledně jmenovaný sice publikoval své poznatky na internetu, ale trvalo ještě tři roky, než se o této chemikálii dozvěděla veřejnost, a to díky práci čtrnáctiletého studenta Nathana Zohnera. Ten v rámci své práce \"How Gullible Are We?\" (Jak důvěřiví dokážeme být?) rozeslal padesátce svých spolužáků (zcela pravdivý) email o DHMO a ptal se, jestli by se s tím nemělo něco udělat.\n",
      "   </p>\n",
      "   <p>\n",
      "    Nathanovi spolužáci z Eagle Rock High School v Idahu za sebou měli již několik let výuky chemie, a rodiče mnohých pracují v nedaleké laboratoři. Možná právě proto se 43 dotázaných vyslovilo pro \"zákaz této nebezpečné chemikálie\".\n",
      "   </p>\n",
      "   <h2>\n",
      "    Další fakta\n",
      "   </h2>\n",
      "   <p>\n",
      "    Dihydrogen monoxid je\n",
      "   </p>\n",
      "   <ull>\n",
      "    <li>\n",
      "     hlavní složkou kyselých dešťů,\n",
      "    </li>\n",
      "    <li>\n",
      "     přispívá ke skleníkovému efektu,\n",
      "    </li>\n",
      "    <li>\n",
      "     urychluje korozi mnoha kovů,\n",
      "    </li>\n",
      "    <li>\n",
      "     může způsobit výpadky proudu, zkraty nebo selhání automobilových brzd,\n",
      "    </li>\n",
      "    <li>\n",
      "     byl nalezen v nádorech.\n",
      "    </li>\n",
      "   </ull>\n",
      "   <p>\n",
      "    Přesto se používá\n",
      "   </p>\n",
      "   <ull>\n",
      "    <li>\n",
      "     jako průmyslové rozpouštědlo a ochlazovač,\n",
      "    </li>\n",
      "    <li>\n",
      "     v jaderných elektrárnách,\n",
      "    </li>\n",
      "    <li>\n",
      "     při výrobě polystyrenu,\n",
      "    </li>\n",
      "    <li>\n",
      "     při mnoha formách výzkumu na zvířatech,\n",
      "    </li>\n",
      "    <li>\n",
      "     při rozstřikování pesticidů,\n",
      "    </li>\n",
      "    <li>\n",
      "     jako přísada v pokrmech rychlého občerstvení a v dalších jídlech.\n",
      "    </li>\n",
      "   </ull>\n",
      "   <p>\n",
      "    Armáda a jiné státní organizace navíc používají sofistikované potrubní systémy pro rozvod a hromadění dihydrogen monoxidu, a to i pro použití v případě vojenského ohrožení.\n",
      "   </p>\n",
      "   <h2>\n",
      "    Petice proti DHMO\n",
      "   </h2>\n",
      "   <p>\n",
      "    Zprávy a škodlivosti DMO se v různých podobách šíří po internetu dále. A stále si získávají nové příznivce. Donald Simanek například sepsal petici za zákaz DHMO, a dostal celkem zajímavé odpovědi. \"Nikdy předtím jsem o této nebezpečné látce neslyšel. Zní to hrozně. (...) Měl bych si o tom něco více zjistit.\"\n",
      "   </p>\n",
      "   <p>\n",
      "    Asi s největším úspěchem se loby pro zákaz DHMO setkala u kalifornských radních, kteří se rozhodli zakázat používání umělohmotných kelímků, protože se dozvěděli, že se při jejich výrobě používá dihydrogen monoxid. Jejich poradce prý narazil na jednu z mnoha internetových stránek, které na vážné nebezpečí DHMO upozorňují. Na jeho popud tak měli radní hlasovat o tom, že by se tyto kelímky přestali používat na městem organizovaných akcích, protože jsou \"hrozbou lidskému zdraví a bezpečnosti.\"\n",
      "   </p>\n",
      "   <p>\n",
      "    Hrozbou je však spíše lidská neznalost a důvěřivost. Jak řekl Evan Esar: \"Statistika je přesná věda o nepřesných číslech.\" Nebo, řečeno slovy Aaron Levensteina, \"statistiky jsou jako bikiny. Co ukazují, je svůdné, ale rozhodující je to, co skrývají.\"\n",
      "   </p>\n",
      "   <div class=\"center my-2\">\n",
      "    <img alt=\"Zákaz DHMO\" src=\"img/dhmo-ban.png\"/>\n",
      "   </div>\n",
      "   <h2>\n",
      "    Odkazy\n",
      "   </h2>\n",
      "   <ol>\n",
      "    <li>\n",
      "     <a href=\"http://www.dhmo.org/\">\n",
      "      DHMO.org - webová iniciativa, snaha o osvětu (anglicky)\n",
      "     </a>\n",
      "    </li>\n",
      "    <li>\n",
      "     <a href=\"http://www.matthew.at/dhm.pdf\">\n",
      "      Jeden z plakátů varujících před DHMO (anglicky)\n",
      "     </a>\n",
      "    </li>\n",
      "    <li>\n",
      "     <a href=\"http://www.snopes.com/science/dhmo.asp\">\n",
      "      Historie všeho kolem DHMO (anglicky)\n",
      "     </a>\n",
      "    </li>\n",
      "   </ol>\n",
      "  </div>\n",
      " </body>\n",
      "</html>\n",
      "\n"
     ]
    }
   ],
   "source": [
    "# Tisk celého HTML, pokud je to potřeba\n",
    "print(soup.prettify())"
   ]
  },
  {
   "cell_type": "markdown",
   "metadata": {},
   "source": [
    "HTML značky můžeme vyhledávat podle jména. "
   ]
  },
  {
   "cell_type": "code",
   "execution_count": 78,
   "metadata": {},
   "outputs": [
    {
     "name": "stdout",
     "output_type": "stream",
     "text": [
      "Dihydrogen monoxid tvoří hlavní součást kyselých dešťů, způsobuje mnoho vážných silničních nehod, jeho vdechnutí může zabíjet. Přesto vlády celého světa ignorují tato fakta a nepřistoupily k zákazu této chemikálie.\n",
      "Tzv. dihydrogen monoxid je každoročně příčinou úmrtí mnoha lidí. Ve své plynné formě může způsobit popáleniny, ve své kapalné formě zase přispívá k erozi nebo korozi. Možná nejvíce výmluvným je fakt, že dihydrogen monoxid tvoří hlavní součást kyselých dešťů. Po požití může způsobit pocení a pocit vlhkosti. A co je možná nejzáludnější: jde o látku návykovou. Ti, kdo si na ni vypěstují závislost, bez něj nemohou přežít.\n",
      "Přesto se nemalé množství dihydrogen monoxidu (DHMO) nachází v každé řece, jezeru nebo nádrži pitné vody v České republice, a proudí tak denně vodovodními trubkami do tisíců domácností. Vláda je přesto nečinná, a nechce o krocích proti DHMO ani slyšet.\n",
      "Toho, jak je dihydrogen monoxid ve výzkumných kruzích opomíjený, si všimli již studenti Eric Lechner, Lars Norpchen, Matthew Kaufman a Craig Jaskson. Posledně jmenovaný sice publikoval své poznatky na internetu, ale trvalo ještě tři roky, než se o této chemikálii dozvěděla veřejnost, a to díky práci čtrnáctiletého studenta Nathana Zohnera. Ten v rámci své práce \"How Gullible Are We?\" (Jak důvěřiví dokážeme být?) rozeslal padesátce svých spolužáků (zcela pravdivý) email o DHMO a ptal se, jestli by se s tím nemělo něco udělat.\n",
      "Nathanovi spolužáci z Eagle Rock High School v Idahu za sebou měli již několik let výuky chemie, a rodiče mnohých pracují v nedaleké laboratoři. Možná právě proto se 43 dotázaných vyslovilo pro \"zákaz této nebezpečné chemikálie\". \n",
      "Dihydrogen monoxid je\n",
      "Přesto se používá\n",
      "Armáda a jiné státní organizace navíc používají sofistikované potrubní systémy pro rozvod a hromadění dihydrogen monoxidu, a to i pro použití v případě vojenského ohrožení.\n",
      "Zprávy a škodlivosti DMO se v různých podobách šíří po internetu dále. A stále si získávají nové příznivce. Donald Simanek například sepsal petici za zákaz DHMO, a dostal celkem zajímavé odpovědi. \"Nikdy předtím jsem o této nebezpečné látce neslyšel. Zní to hrozně. (...) Měl bych si o tom něco více zjistit.\"\n",
      "Asi s největším úspěchem se loby pro zákaz DHMO setkala u kalifornských radních, kteří se rozhodli zakázat používání umělohmotných kelímků, protože se dozvěděli, že se při jejich výrobě používá dihydrogen monoxid. Jejich poradce prý narazil na jednu z mnoha internetových stránek, které na vážné nebezpečí DHMO upozorňují. Na jeho popud tak měli radní hlasovat o tom, že by se tyto kelímky přestali používat na městem organizovaných akcích, protože jsou \"hrozbou lidskému zdraví a bezpečnosti.\"\n",
      "Hrozbou je však spíše lidská neznalost a důvěřivost. Jak řekl Evan Esar: \"Statistika je přesná věda o nepřesných číslech.\" Nebo, řečeno slovy Aaron Levensteina, \"statistiky jsou jako bikiny. Co ukazují, je svůdné, ale rozhodující je to, co skrývají.\"\n"
     ]
    }
   ],
   "source": [
    "# Vyhledání všech paragrafů v HTML\n",
    "paragraphs = soup.find_all('p')\n",
    "for paragraph in paragraphs:\n",
    "    print(paragraph.text)"
   ]
  },
  {
   "cell_type": "markdown",
   "metadata": {},
   "source": [
    "Můžeme vyhledávání podle třídy (atribut class). Třídy se vyhledávají tak, že jejich název začneme tečkou.\n",
    "\n"
   ]
  },
  {
   "cell_type": "code",
   "execution_count": 79,
   "metadata": {},
   "outputs": [
    {
     "name": "stdout",
     "output_type": "stream",
     "text": [
      "Dihydrogen monoxid tvoří hlavní součást kyselých dešťů, způsobuje mnoho vážných silničních nehod, jeho vdechnutí může zabíjet. Přesto vlády celého světa ignorují tato fakta a nepřistoupily k zákazu této chemikálie.\n"
     ]
    }
   ],
   "source": [
    "# Vyhledání všech paragrafů v sekci s třídou \"sekce1\"\n",
    "for section_paragraph in soup.select(\".intro p\"):\n",
    "    print(section_paragraph.text)"
   ]
  },
  {
   "cell_type": "code",
   "execution_count": 80,
   "metadata": {},
   "outputs": [
    {
     "name": "stdout",
     "output_type": "stream",
     "text": [
      "<a href=\"http://www.dhmo.org/\">DHMO.org - webová iniciativa, snaha o osvětu (anglicky)</a>\n",
      "DHMO.org - webová iniciativa, snaha o osvětu (anglicky)\n",
      "http://www.dhmo.org/\n",
      "<a href=\"http://www.matthew.at/dhm.pdf\">Jeden z plakátů varujících před DHMO (anglicky)</a>\n",
      "Jeden z plakátů varujících před DHMO (anglicky)\n",
      "http://www.matthew.at/dhm.pdf\n",
      "<a href=\"http://www.snopes.com/science/dhmo.asp\">Historie všeho kolem DHMO (anglicky)</a>\n",
      "Historie všeho kolem DHMO (anglicky)\n",
      "http://www.snopes.com/science/dhmo.asp\n"
     ]
    }
   ],
   "source": [
    "links = soup.find_all('a')\n",
    "\n",
    "for link in links:\n",
    "    print(link)\n",
    "    print(link.text)\n",
    "    print(link.get('href'))"
   ]
  },
  {
   "cell_type": "code",
   "execution_count": 81,
   "metadata": {},
   "outputs": [
    {
     "name": "stdout",
     "output_type": "stream",
     "text": [
      "DHMO\n",
      "img/dhmo.jpg\n",
      "Zákaz DHMO\n",
      "img/dhmo-ban.png\n"
     ]
    }
   ],
   "source": [
    "images = soup.find_all('img')\n",
    "for image in images:\n",
    "    print(image.get('alt'))\n",
    "    print(image.get('src'))"
   ]
  },
  {
   "cell_type": "markdown",
   "metadata": {},
   "source": [
    "Můžeme přistupovat k atributům nalezených značek. "
   ]
  },
  {
   "cell_type": "code",
   "execution_count": 82,
   "metadata": {},
   "outputs": [
    {
     "name": "stdout",
     "output_type": "stream",
     "text": [
      "http://www.dhmo.org/\n",
      "http://www.matthew.at/dhm.pdf\n",
      "http://www.snopes.com/science/dhmo.asp\n"
     ]
    }
   ],
   "source": [
    "# Vyhledání všech odkazů a jejich atributů href v HTML\n",
    "links = soup.find_all('a')\n",
    "for link in links:\n",
    "    print(link.get('href'))"
   ]
  },
  {
   "cell_type": "markdown",
   "metadata": {},
   "source": [
    "### Složitější pravidla vyhledávání"
   ]
  },
  {
   "cell_type": "markdown",
   "metadata": {},
   "source": [
    "Můžeme vyhledávat podle více značek najednou."
   ]
  },
  {
   "cell_type": "code",
   "execution_count": 84,
   "metadata": {},
   "outputs": [
    {
     "name": "stdout",
     "output_type": "stream",
     "text": [
      "Nebezpečný dihydrogen monoxid šíří hrůzu. Studenti jej chtějí zakázat.\n",
      "Strašák DHMO\n",
      "Další fakta\n",
      "Petice proti DHMO\n",
      "Odkazy\n"
     ]
    }
   ],
   "source": [
    "# Vyhledání všech nadpisů h1 a h2 v HTML\n",
    "headings = soup.find_all(['h1', 'h2'])\n",
    "for heading in headings:\n",
    "    print(heading.text)"
   ]
  },
  {
   "cell_type": "markdown",
   "metadata": {},
   "source": [
    "Můžeme vyhledávat podle atributů. "
   ]
  },
  {
   "cell_type": "code",
   "execution_count": 85,
   "metadata": {},
   "outputs": [
    {
     "data": {
      "text/plain": [
       "[<a href=\"http://www.dhmo.org/\">DHMO.org - webová iniciativa, snaha o osvětu (anglicky)</a>,\n",
       " <a href=\"http://www.matthew.at/dhm.pdf\">Jeden z plakátů varujících před DHMO (anglicky)</a>,\n",
       " <a href=\"http://www.snopes.com/science/dhmo.asp\">Historie všeho kolem DHMO (anglicky)</a>]"
      ]
     },
     "execution_count": 85,
     "metadata": {},
     "output_type": "execute_result"
    }
   ],
   "source": [
    "soup.select('ol li a')\n",
    "# soup.find('ol').find_all('li')"
   ]
  },
  {
   "cell_type": "markdown",
   "metadata": {},
   "source": [
    "Můžeme vyhledávat podle zanoření. \n",
    "\n",
    "Mezera ve vyhledávacím řetězci znamená libovolně hluboké zanoření. "
   ]
  },
  {
   "cell_type": "code",
   "execution_count": 87,
   "metadata": {},
   "outputs": [
    {
     "name": "stdout",
     "output_type": "stream",
     "text": [
      "Dihydrogen monoxid tvoří hlavní součást kyselých dešťů, způsobuje mnoho vážných silničních nehod, jeho vdechnutí může zabíjet. Přesto vlády celého světa ignorují tato fakta a nepřistoupily k zákazu této chemikálie.\n"
     ]
    }
   ],
   "source": [
    "# Použití CSS selektoru pro nalezení odstavců, které jsou přímými potomky divu s třídou 'sekce1'\n",
    "direct_child_paragraphs = soup.select(\".intro > p\")\n",
    "\n",
    "# Výpis textu nalezených odstavců\n",
    "for paragraph in direct_child_paragraphs:\n",
    "    print(paragraph.text)"
   ]
  },
  {
   "cell_type": "markdown",
   "metadata": {},
   "source": [
    "## Web scraping vs JavaScript"
   ]
  },
  {
   "cell_type": "markdown",
   "metadata": {},
   "source": [
    "Velkým trendem v dnešní době je nepsat HTML kód stránky přímo, jako jsme to viděli výše. \n",
    "\n",
    "Místo toho se použije jazyk JavaScript, který kód stránky sám vygeneruje. \n",
    "\n",
    "Tím může být stránka mnohem flexibilnější a interaktivnější, což je hezké pro uživatele. \n",
    "\n",
    "Pro nás to však znamená, že když stránku stahujeme v Pythonu, neobdržíme značky HTML, ale JavaScriptový program. \n",
    "\n",
    "Ten nejdříve musíme v Pythonu spustit a nechat si výsledné HTML vygenerovat.\n",
    "\n",
    "Podívejte se například na tuto stránku, která je psána přesně tímto způsobem. \n",
    "\n",
    "https://react-shopping-cart-67954.firebaseapp.com/\n",
    "\n",
    "Pokud chceme takovou stránku scrapovat, musíme použít takovýto kód.\n",
    "\n"
   ]
  },
  {
   "cell_type": "code",
   "execution_count": 88,
   "metadata": {},
   "outputs": [
    {
     "data": {
      "text/plain": [
       "'/Library/Frameworks/Python.framework/Versions/3.12/lib/python3.12/site-packages/chromedriver_autoinstaller/124/chromedriver'"
      ]
     },
     "execution_count": 88,
     "metadata": {},
     "output_type": "execute_result"
    }
   ],
   "source": [
    "# %pip3 install selenium\n",
    "from selenium import webdriver\n",
    "from selenium.webdriver.chrome.service import Service\n",
    "from selenium.webdriver.chrome.options import Options\n",
    "import time\n",
    "# %pip install chromedriver-autoinstaller\n",
    "import chromedriver_autoinstaller\n",
    "\n",
    "chromedriver_autoinstaller.install()"
   ]
  },
  {
   "cell_type": "code",
   "execution_count": 89,
   "metadata": {},
   "outputs": [
    {
     "name": "stdout",
     "output_type": "stream",
     "text": [
      "<html lang=\"en\"><head><script async=\"\" src=\"https://www.googletagmanager.com/gtag/js?id=UA-85006284-3\"></script><script>function gtag(){dataLayer.push(arguments)}window.dataLayer=window.dataLayer||[],gtag(\"js\",new Date),gtag(\"config\",\"UA-85006284-3\")</script><meta charset=\"utf-8\"><link rel=\"icon\" href=\"/favicon.ico\"><meta name=\"viewport\" content=\"width=device-width,initial-scale=1\"><meta name=\"theme-color\" content=\"#000000\"><link href=\"https://react-shopping-cart-67954.firebaseapp.com/\" rel=\"shortcut icon\" type=\"image/x-icon\"><meta name=\"google-site-verification\" content=\"b3ZTH-20AJ_8zTxSKYQ3TpQVS8dBirMtVapuIXT70dg\"><meta name=\"url\" content=\"https://react-shopping-cart-67954.firebaseapp.com/\"><meta name=\"keywords\" content=\"typescript, react, shopping cart, hooks, context, javascript, ecommerce\"><meta name=\"description\" content=\"This simple shopping cart prototype shows how React with Typescript, React hooks, react Context and Styled Components can be used to build a friendly user experience with instant visual updates and scaleable code in ecommerce applications.\"><meta name=\"og:title\" property=\"og:title\" content=\"Typescript React Shopping Cart\"><meta property=\"og:description\" content=\"This simple shopping cart prototype shows how React with Typescript, React hooks, react Context and Styled Components can be used to build a friendly user experience with instant visual updates and scaleable code in ecommerce applications.\"><meta property=\"og:image\" content=\"https://raw.githubusercontent.com/jeffersonRibeiro/react-shopping-cart/main/doc/react-shopping-cart-min.gif\"><meta name=\"reply-to\" content=\"jefferson.ribeiro.contato@gmail.com\"><link rel=\"manifest\" href=\"/manifest.json\"><link rel=\"stylesheet\" href=\"/normalize.css\"><title>Typescript React Shopping cart</title><script defer=\"defer\" src=\"/static/js/main.beedc55e.js\"></script><script type=\"text/javascript\" src=\"/KHwft0TXpwXSEI9V\"></script><style data-styled=\"active\" data-styled-version=\"5.3.3\"></style></head><body><noscript>You need to enable JavaScript to run this app.</noscript><div id=\"root\"><div class=\"sc-ebmerl-0 foenKb\"><a href=\"https://github.com/jeffersonRibeiro/react-shopping-cart\" aria-label=\"View source on Github\" class=\"sc-15lbmbx-1 cwLwBP\"><svg width=\"80\" height=\"80\" viewBox=\"0 0 250 250\" aria-hidden=\"true\" style=\"fill: rgb(21, 21, 19); color: rgb(255, 255, 255); position: absolute; top: 0px; border: 0px; left: 0px; transform: scale(-1, 1);\"><path d=\"M0,0 L115,115 L130,115 L142,142 L250,250 L250,0 Z\"></path><path d=\"M128.3,109.0 C113.8,99.7 119.0,89.6 119.0,89.6 C122.0,82.7 120.5,78.6 120.5,78.6 C119.2,72.0 123.4,76.3 123.4,76.3 C127.3,80.9 125.5,87.3 125.5,87.3 C122.9,97.6 130.6,101.9 134.4,103.2\" fill=\"currentColor\" class=\"sc-15lbmbx-0 hXovNX\" style=\"transform-origin: 130px 106px;\"></path><path d=\"M115.0,115.0 C114.9,115.1 118.7,116.5 119.8,115.4 L133.7,101.6 C136.9,99.2 139.9,98.4 142.2,98.6 C133.8,88.0 127.5,74.4 143.8,58.0 C148.5,53.4 154.0,51.2 159.7,51.0 C160.3,49.4 163.2,43.6 171.4,40.1 C171.4,40.1 176.1,42.5 178.8,56.2 C183.1,58.6 187.2,61.8 190.9,65.4 C194.5,69.0 197.7,73.2 200.1,77.6 C213.8,80.2 216.3,84.9 216.3,84.9 C212.7,93.1 206.9,96.0 205.4,96.6 C205.1,102.4 203.0,107.8 198.3,112.5 C181.9,128.9 168.3,122.5 157.7,114.1 C157.9,116.9 156.7,120.9 152.7,124.9 L141.0,136.5 C139.8,137.7 141.6,141.9 141.8,141.8 Z\" fill=\"currentColor\"></path></svg></a><div class=\"sc-joc36b-0 ciyhZL\"><div class=\"sc-joc36b-1 kCrsLA\"><img alt=\"Jeremy Akeze - Doghouse IT Recruitment\" src=\"/static/media/jeremy-akeze-doghouse-it-recruitment.663cfeb6f48038ec1198.jpg\"></div><div class=\"sc-joc36b-3 jCptDE\"><h4>Work in the Netherlands<span class=\"sc-joc36b-2 jqFrEq\"></span></h4><p>Hi! I'm Jeremy Akeze from Doghouse IT Recruitment and I'm looking for skilled Software Engineers like you. If you wish to move abroad, <a href=\"https://www.linkedin.com/in/jeremy-akeze-9542b396/\"><b>follow me on Linkedin.</b></a></p></div></div><main class=\"sc-ebmerl-1 bmmyxu\"><div class=\"sc-ebmerl-2 hqhzVN\"><div class=\"sc-bj2vay-0 DCKcC\"><h4 class=\"sc-bj2vay-2 jepTHo\">Sizes:</h4><div class=\"sc-bj2vay-1 hcyKTa\"><label><input type=\"checkbox\" data-testid=\"checkbox\" value=\"XS\"><span class=\"checkmark\">XS</span></label></div><div class=\"sc-bj2vay-1 hcyKTa\"><label><input type=\"checkbox\" data-testid=\"checkbox\" value=\"S\"><span class=\"checkmark\">S</span></label></div><div class=\"sc-bj2vay-1 hcyKTa\"><label><input type=\"checkbox\" data-testid=\"checkbox\" value=\"M\"><span class=\"checkmark\">M</span></label></div><div class=\"sc-bj2vay-1 hcyKTa\"><label><input type=\"checkbox\" data-testid=\"checkbox\" value=\"ML\"><span class=\"checkmark\">ML</span></label></div><div class=\"sc-bj2vay-1 hcyKTa\"><label><input type=\"checkbox\" data-testid=\"checkbox\" value=\"L\"><span class=\"checkmark\">L</span></label></div><div class=\"sc-bj2vay-1 hcyKTa\"><label><input type=\"checkbox\" data-testid=\"checkbox\" value=\"XL\"><span class=\"checkmark\">XL</span></label></div><div class=\"sc-bj2vay-1 hcyKTa\"><label><input type=\"checkbox\" data-testid=\"checkbox\" value=\"XXL\"><span class=\"checkmark\">XXL</span></label></div></div><div class=\"star-button-container\"><p><small>Leave a star on Github if this repository was useful :)</small></p><a class=\"github-button\" href=\"https://github.com/jeffersonRibeiro/react-shopping-cart\" data-icon=\"octicon-star\" data-size=\"large\" data-show-count=\"true\" aria-label=\"Star jeffersonRibeiro/react-shopping-cart on GitHub\" tabindex=\"-1\">Star</a></div></div><main class=\"sc-ebmerl-3 hewZDo\"><main class=\"sc-ebmerl-4 iliWeY\"><p>16 Product(s) found</p></main><div class=\"sc-uhudcz-0 iZZGui\"><div tabindex=\"1\" class=\"sc-124al1g-2 dwOYCh\"><div class=\"sc-124al1g-3 bHJSNa\">Free shipping</div><div alt=\"Cropped Stay Groovy off white\" class=\"sc-124al1g-1 csvtPz\"></div><p class=\"sc-124al1g-4 eeXMBo\">Cropped Stay Groovy off white</p><div class=\"sc-124al1g-5 fTQxRg\"><p class=\"sc-124al1g-6 ljgnQL\"><small>$</small><b>10</b><span>.90</span></p><p class=\"sc-124al1g-7 kIYxbn\"><span>or 9 x</span><b>$1.21</b></p></div><button tabindex=\"-1\" class=\"sc-124al1g-0 jCsgpZ\">Add to cart</button></div><div tabindex=\"1\" class=\"sc-124al1g-2 bCLaRj\"><div class=\"sc-124al1g-3 bHJSNa\">Free shipping</div><div alt=\"Basic Cactus White T-shirt\" class=\"sc-124al1g-1 csvtPz\"></div><p class=\"sc-124al1g-4 eeXMBo\">Basic Cactus White T-shirt</p><div class=\"sc-124al1g-5 fTQxRg\"><p class=\"sc-124al1g-6 ljgnQL\"><small>$</small><b>13</b><span>.25</span></p><p class=\"sc-124al1g-7 kIYxbn\"><span>or 3 x</span><b>$4.42</b></p></div><button tabindex=\"-1\" class=\"sc-124al1g-0 jCsgpZ\">Add to cart</button></div><div tabindex=\"1\" class=\"sc-124al1g-2 ddJZtb\"><div alt=\"Skater Black Sweatshirt\" class=\"sc-124al1g-1 csvtPz\"></div><p class=\"sc-124al1g-4 eeXMBo\">Skater Black Sweatshirt</p><div class=\"sc-124al1g-5 fTQxRg\"><p class=\"sc-124al1g-6 ljgnQL\"><small>$</small><b>25</b><span>.90</span></p><p class=\"sc-124al1g-7 kIYxbn\"><span>or 12 x</span><b>$2.16</b></p></div><button tabindex=\"-1\" class=\"sc-124al1g-0 jCsgpZ\">Add to cart</button></div><div tabindex=\"1\" class=\"sc-124al1g-2 keuquD\"><div class=\"sc-124al1g-3 bHJSNa\">Free shipping</div><div alt=\"Black Tule Oversized\" class=\"sc-124al1g-1 csvtPz\"></div><p class=\"sc-124al1g-4 eeXMBo\">Black Tule Oversized</p><div class=\"sc-124al1g-5 fTQxRg\"><p class=\"sc-124al1g-6 ljgnQL\"><small>$</small><b>29</b><span>.45</span></p><p class=\"sc-124al1g-7 kIYxbn\"><span>or 5 x</span><b>$5.89</b></p></div><button tabindex=\"-1\" class=\"sc-124al1g-0 jCsgpZ\">Add to cart</button></div><div tabindex=\"1\" class=\"sc-124al1g-2 kaJsVi\"><div class=\"sc-124al1g-3 bHJSNa\">Free shipping</div><div alt=\"Black Batman T-shirt\" class=\"sc-124al1g-1 csvtPz\"></div><p class=\"sc-124al1g-4 eeXMBo\">Black Batman T-shirt</p><div class=\"sc-124al1g-5 fTQxRg\"><p class=\"sc-124al1g-6 ljgnQL\"><small>$</small><b>10</b><span>.90</span></p><p class=\"sc-124al1g-7 kIYxbn\"><span>or 9 x</span><b>$1.21</b></p></div><button tabindex=\"-1\" class=\"sc-124al1g-0 jCsgpZ\">Add to cart</button></div><div tabindex=\"1\" class=\"sc-124al1g-2 bMffkU\"><div class=\"sc-124al1g-3 bHJSNa\">Free shipping</div><div alt=\"Blue T-Shirt\" class=\"sc-124al1g-1 csvtPz\"></div><p class=\"sc-124al1g-4 eeXMBo\">Blue T-Shirt</p><div class=\"sc-124al1g-5 fTQxRg\"><p class=\"sc-124al1g-6 ljgnQL\"><small>$</small><b>9</b><span>.00</span></p><p class=\"sc-124al1g-7 kIYxbn\"><span>or 3 x</span><b>$3.00</b></p></div><button tabindex=\"-1\" class=\"sc-124al1g-0 jCsgpZ\">Add to cart</button></div><div tabindex=\"1\" class=\"sc-124al1g-2 ekOVCH\"><div class=\"sc-124al1g-3 bHJSNa\">Free shipping</div><div alt=\"Loose Black T-shirt\" class=\"sc-124al1g-1 csvtPz\"></div><p class=\"sc-124al1g-4 eeXMBo\">Loose Black T-shirt</p><div class=\"sc-124al1g-5 fTQxRg\"><p class=\"sc-124al1g-6 ljgnQL\"><small>$</small><b>14</b><span>.00</span></p><p class=\"sc-124al1g-7 kIYxbn\"><span>or 5 x</span><b>$2.80</b></p></div><button tabindex=\"-1\" class=\"sc-124al1g-0 jCsgpZ\">Add to cart</button></div><div tabindex=\"1\" class=\"sc-124al1g-2 ctLSpw\"><div class=\"sc-124al1g-3 bHJSNa\">Free shipping</div><div alt=\"Ringer Hall Pass\" class=\"sc-124al1g-1 csvtPz\"></div><p class=\"sc-124al1g-4 eeXMBo\">Ringer Hall Pass</p><div class=\"sc-124al1g-5 fTQxRg\"><p class=\"sc-124al1g-6 ljgnQL\"><small>$</small><b>10</b><span>.90</span></p><p class=\"sc-124al1g-7 kIYxbn\"><span>or 9 x</span><b>$1.21</b></p></div><button tabindex=\"-1\" class=\"sc-124al1g-0 jCsgpZ\">Add to cart</button></div><div tabindex=\"1\" class=\"sc-124al1g-2 fGSBPC\"><div class=\"sc-124al1g-3 bHJSNa\">Free shipping</div><div alt=\"Grey T-shirt\" class=\"sc-124al1g-1 csvtPz\"></div><p class=\"sc-124al1g-4 eeXMBo\">Grey T-shirt</p><div class=\"sc-124al1g-5 fTQxRg\"><p class=\"sc-124al1g-6 ljgnQL\"><small>$</small><b>14</b><span>.90</span></p><p class=\"sc-124al1g-7 kIYxbn\"><span>or 7 x</span><b>$2.13</b></p></div><button tabindex=\"-1\" class=\"sc-124al1g-0 jCsgpZ\">Add to cart</button></div><div tabindex=\"1\" class=\"sc-124al1g-2 jngQVM\"><div class=\"sc-124al1g-3 bHJSNa\">Free shipping</div><div alt=\"Black T-shirt with white stripes\" class=\"sc-124al1g-1 csvtPz\"></div><p class=\"sc-124al1g-4 eeXMBo\">Black T-shirt with white stripes</p><div class=\"sc-124al1g-5 fTQxRg\"><p class=\"sc-124al1g-6 ljgnQL\"><small>$</small><b>14</b><span>.90</span></p><p class=\"sc-124al1g-7 kIYxbn\"><span>or 7 x</span><b>$2.13</b></p></div><button tabindex=\"-1\" class=\"sc-124al1g-0 jCsgpZ\">Add to cart</button></div><div tabindex=\"1\" class=\"sc-124al1g-2 edLCDn\"><div alt=\"Turtles Ninja T-shirt\" class=\"sc-124al1g-1 csvtPz\"></div><p class=\"sc-124al1g-4 eeXMBo\">Turtles Ninja T-shirt</p><div class=\"sc-124al1g-5 fTQxRg\"><p class=\"sc-124al1g-6 ljgnQL\"><small>$</small><b>10</b><span>.90</span></p><p class=\"sc-124al1g-7 kIYxbn\"><span>or 9 x</span><b>$1.21</b></p></div><button tabindex=\"-1\" class=\"sc-124al1g-0 jCsgpZ\">Add to cart</button></div><div tabindex=\"1\" class=\"sc-124al1g-2 fcMvnw\"><div class=\"sc-124al1g-3 bHJSNa\">Free shipping</div><div alt=\"Slim black T-shirt\" class=\"sc-124al1g-1 csvtPz\"></div><p class=\"sc-124al1g-4 eeXMBo\">Slim black T-shirt</p><div class=\"sc-124al1g-5 fTQxRg\"><p class=\"sc-124al1g-6 ljgnQL\"><small>$</small><b>49</b><span>.90</span></p></div><button tabindex=\"-1\" class=\"sc-124al1g-0 jCsgpZ\">Add to cart</button></div><div tabindex=\"1\" class=\"sc-124al1g-2 gwkgbw\"><div class=\"sc-124al1g-3 bHJSNa\">Free shipping</div><div alt=\"Blue Sweatshirt\" class=\"sc-124al1g-1 csvtPz\"></div><p class=\"sc-124al1g-4 eeXMBo\">Blue Sweatshirt</p><div class=\"sc-124al1g-5 fTQxRg\"><p class=\"sc-124al1g-6 ljgnQL\"><small>$</small><b>22</b><span>.50</span></p><p class=\"sc-124al1g-7 kIYxbn\"><span>or 4 x</span><b>$5.63</b></p></div><button tabindex=\"-1\" class=\"sc-124al1g-0 jCsgpZ\">Add to cart</button></div><div tabindex=\"1\" class=\"sc-124al1g-2 jbWNoC\"><div alt=\"White T-shirt Gucci\" class=\"sc-124al1g-1 csvtPz\"></div><p class=\"sc-124al1g-4 eeXMBo\">White T-shirt Gucci</p><div class=\"sc-124al1g-5 fTQxRg\"><p class=\"sc-124al1g-6 ljgnQL\"><small>$</small><b>18</b><span>.70</span></p><p class=\"sc-124al1g-7 kIYxbn\"><span>or 4 x</span><b>$4.67</b></p></div><button tabindex=\"-1\" class=\"sc-124al1g-0 jCsgpZ\">Add to cart</button></div><div tabindex=\"1\" class=\"sc-124al1g-2 iuxyGb\"><div class=\"sc-124al1g-3 bHJSNa\">Free shipping</div><div alt=\"Tropical Wine T-shirt\" class=\"sc-124al1g-1 csvtPz\"></div><p class=\"sc-124al1g-4 eeXMBo\">Tropical Wine T-shirt</p><div class=\"sc-124al1g-5 fTQxRg\"><p class=\"sc-124al1g-6 ljgnQL\"><small>$</small><b>134</b><span>.90</span></p><p class=\"sc-124al1g-7 kIYxbn\"><span>or 5 x</span><b>$26.98</b></p></div><button tabindex=\"-1\" class=\"sc-124al1g-0 jCsgpZ\">Add to cart</button></div><div tabindex=\"1\" class=\"sc-124al1g-2 dzBqXE\"><div class=\"sc-124al1g-3 bHJSNa\">Free shipping</div><div alt=\"Marine Blue T-shirt\" class=\"sc-124al1g-1 csvtPz\"></div><p class=\"sc-124al1g-4 eeXMBo\">Marine Blue T-shirt</p><div class=\"sc-124al1g-5 fTQxRg\"><p class=\"sc-124al1g-6 ljgnQL\"><small>$</small><b>49</b><span>.00</span></p><p class=\"sc-124al1g-7 kIYxbn\"><span>or 9 x</span><b>$5.44</b></p></div><button tabindex=\"-1\" class=\"sc-124al1g-0 jCsgpZ\">Add to cart</button></div></div></main></main><div class=\"sc-1h98xa9-1 fMOJZp\"><button class=\"sc-1h98xa9-0 gFkyvN\"><div class=\"sc-1h98xa9-2 fGgnoG\"><div title=\"Products in cart quantity\" class=\"sc-1h98xa9-3 VLMSP\">0</div></div></button></div></div></div><script src=\"https://buttons.github.io/buttons.js\"></script></body></html>\n"
     ]
    }
   ],
   "source": [
    "# Cesta k WebDriver\n",
    "# Upravte cestu k vaší instalaci chromedriver\n",
    "chrome_driver_path = '/Library/Frameworks/Python.framework/Versions/3.12/lib/python3.12/site-packages/chromedriver_autoinstaller/124/chromedriver'\n",
    "\n",
    "# Nastavení webdriveru\n",
    "service = Service(executable_path=chrome_driver_path)\n",
    "chrome_options = Options()\n",
    "chrome_options.add_argument(\"--headless\")  \n",
    "\n",
    "# Inicializace WebDriveru\n",
    "try:\n",
    "    driver = webdriver.Chrome(service=service, options=chrome_options)\n",
    "except Exception as e:\n",
    "    print(\"Nastala chyba při inicializaci WebDriveru:\", str(e))\n",
    "    exit(1)\n",
    "\n",
    "# Použití WebDriveru\n",
    "try:\n",
    "    driver.get(\"https://react-shopping-cart-67954.firebaseapp.com/\")\n",
    "    time.sleep(5)  # Počkáme, aby JavaScript načetl obsah\n",
    "\n",
    "    # Vaše další kódy\n",
    "    print(driver.page_source)  # Výpis zdrojového kódu stránky\n",
    "\n",
    "finally:\n",
    "    driver.quit()  # Ukončení WebDriveru"
   ]
  },
  {
   "cell_type": "markdown",
   "metadata": {},
   "source": [
    "Notes:\n",
    "\n",
    "- https://pypi.org/project/beautifulsoup4/\n",
    "- https://pypi.org/project/requests/"
   ]
  }
 ],
 "metadata": {
  "kernelspec": {
   "display_name": "Python 3.10.1 64-bit",
   "language": "python",
   "name": "python3"
  },
  "language_info": {
   "codemirror_mode": {
    "name": "ipython",
    "version": 3
   },
   "file_extension": ".py",
   "mimetype": "text/x-python",
   "name": "python",
   "nbconvert_exporter": "python",
   "pygments_lexer": "ipython3",
   "version": "3.12.3"
  },
  "orig_nbformat": 4,
  "vscode": {
   "interpreter": {
    "hash": "aee8b7b246df8f9039afb4144a1f6fd8d2ca17a180786b69acc140d282b71a49"
   }
  }
 },
 "nbformat": 4,
 "nbformat_minor": 2
}
