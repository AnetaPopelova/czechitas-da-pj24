{
 "cells": [
  {
   "attachments": {},
   "cell_type": "markdown",
   "metadata": {},
   "source": [
    "# Cvičení"
   ]
  },
  {
   "cell_type": "code",
   "execution_count": 34,
   "metadata": {},
   "outputs": [],
   "source": [
    "from requests_html import HTMLSession"
   ]
  },
  {
   "attachments": {},
   "cell_type": "markdown",
   "metadata": {},
   "source": [
    "## Scraping DHMO\n",
    "\n",
    "Napište program, který bude pracovat se stránkou o DHMO na adrese https://apps.kodim.cz/python-data/dhmo.\n",
    "\n",
    "- Nechť program vypíše na výstup nadpisy všech sekcí (značka h2).\n",
    "- Nechť program vypíše na výstup cesty všech odkazů na stránce (značka a, atribut href).\n",
    "- Nechť program vypíše na výstup cesty ke všem obrázkům na stránce (značka img, atribut src)."
   ]
  },
  {
   "cell_type": "code",
   "execution_count": 35,
   "metadata": {},
   "outputs": [],
   "source": [
    "url = \"https://apps.kodim.cz/python-data/dhmo\"\n",
    "session = HTMLSession()\n",
    "stranka = session.get(url)"
   ]
  },
  {
   "cell_type": "code",
   "execution_count": 36,
   "metadata": {},
   "outputs": [
    {
     "name": "stdout",
     "output_type": "stream",
     "text": [
      "Strašák DHMO\n",
      "Další fakta\n",
      "Petice proti DHMO\n",
      "Odkazy\n"
     ]
    }
   ],
   "source": [
    "# Nechť program vypíše na výstup nadpisy všech sekcí (značka h2).\n",
    "for nadpis in stranka.html.find(\"h2\"):\n",
    "    print(nadpis.text)"
   ]
  },
  {
   "cell_type": "code",
   "execution_count": 37,
   "metadata": {},
   "outputs": [
    {
     "name": "stdout",
     "output_type": "stream",
     "text": [
      "http://www.dhmo.org/\n",
      "http://www.matthew.at/dhm.pdf\n",
      "http://www.snopes.com/science/dhmo.asp\n"
     ]
    }
   ],
   "source": [
    "# Nechť program vypíše na výstup cesty všech odkazů na stránce (značka a, atribut href).\n",
    "for odkaz in stranka.html.find(\"a\"):\n",
    "    print(odkaz.attrs[\"href\"])"
   ]
  },
  {
   "cell_type": "code",
   "execution_count": 38,
   "metadata": {},
   "outputs": [
    {
     "name": "stdout",
     "output_type": "stream",
     "text": [
      "img/dhmo.jpg\n",
      "img/dhmo-ban.png\n"
     ]
    }
   ],
   "source": [
    "# Nechť program vypíše na výstup cesty ke všem obrázkům na stránce (značka img, atribut src).\n",
    "for img in stranka.html.find(\"img\"):\n",
    "    print(img.attrs[\"src\"])"
   ]
  },
  {
   "attachments": {},
   "cell_type": "markdown",
   "metadata": {},
   "source": [
    "## Scraping Kodim.cz\n",
    "\n",
    "Jistě vás nepřekvapí, že stránky, které právě čtete, se dají také snadno scrapovat.\n",
    "\n",
    "Napište program, který vypíše na výstup všechny sekce a kurzy ze stránky kodim.cz. Výstup může vypadat např. takto:\n",
    "\n",
    "```\n",
    "Základy programování\n",
    "    Úvod do programování\n",
    "    Úvod do programování 2\n",
    "    JavaScript\n",
    "    Úvod do Linuxu\n",
    "Vývoj webových aplikací\n",
    "    Digitální akademie Web\n",
    "    React 2\n",
    "Datová analýza a programování\n",
    "    Python pro data 1\n",
    "    Python pro Power BI\n",
    "    Python pro databáze\n",
    "    Objektově orientované programování v Pythonu\n",
    "    Datová analytika\n",
    "```"
   ]
  },
  {
   "cell_type": "code",
   "execution_count": 39,
   "metadata": {},
   "outputs": [],
   "source": [
    "# Napište program, který vypíše na výstup všechny názvy cvičení z lekce Vstup a výstup spolu s jejich obtížností.\n",
    "url = \"https://kodim.cz/czechitas/uvod-do-progr-1/prvni-krucky/vstup-vystup/excs\"\n",
    "session = HTMLSession()\n",
    "kodim = session.get(url)"
   ]
  },
  {
   "cell_type": "code",
   "execution_count": 40,
   "metadata": {},
   "outputs": [],
   "source": [
    "nadpisy = [el.text for el in kodim.html.find(\".styles_title__LCn46\")]"
   ]
  },
  {
   "cell_type": "code",
   "execution_count": 41,
   "metadata": {},
   "outputs": [
    {
     "name": "stdout",
     "output_type": "stream",
     "text": [
      "Jednoduchý výstup\n",
      "Jednoduchý vstup\n",
      "Zakázka pro divadlo\n",
      "Házení kostkami\n",
      "Generátor čísel\n"
     ]
    }
   ],
   "source": [
    "for nadpis in nadpisy:\n",
    "    print(nadpis)"
   ]
  },
  {
   "cell_type": "code",
   "execution_count": null,
   "metadata": {},
   "outputs": [],
   "source": []
  }
 ],
 "metadata": {
  "kernelspec": {
   "display_name": "Python 3",
   "language": "python",
   "name": "python3"
  },
  "language_info": {
   "codemirror_mode": {
    "name": "ipython",
    "version": 3
   },
   "file_extension": ".py",
   "mimetype": "text/x-python",
   "name": "python",
   "nbconvert_exporter": "python",
   "pygments_lexer": "ipython3",
   "version": "3.11.5"
  },
  "orig_nbformat": 4
 },
 "nbformat": 4,
 "nbformat_minor": 2
}
